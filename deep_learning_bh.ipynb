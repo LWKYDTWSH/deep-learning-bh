{
  "cells": [
    {
      "cell_type": "markdown",
      "metadata": {
        "id": "view-in-github",
        "colab_type": "text"
      },
      "source": [
        "<a href=\"https://colab.research.google.com/github/LWKYDTWSH/deep-learning-bh/blob/main/deep_learning_bh.ipynb\" target=\"_parent\"><img src=\"https://colab.research.google.com/assets/colab-badge.svg\" alt=\"Open In Colab\"/></a>"
      ]
    },
    {
      "cell_type": "markdown",
      "metadata": {
        "id": "kFzsy24U2mxa"
      },
      "source": [
        "## Preprocessing"
      ]
    },
    {
      "cell_type": "code",
      "source": [
        "# Data Science Libs\n",
        "import matplotlib.pyplot as plt\n",
        "import numpy as np\n",
        "import pandas as pd\n",
        "import seaborn as sns\n",
        "\n",
        "# model preprocessing & metrics\n",
        "from sklearn.model_selection import train_test_split\n",
        "from sklearn.preprocessing import StandardScaler, MinMaxScaler\n",
        "from sklearn.metrics import confusion_matrix, classification_report, roc_curve, auc\n",
        "\n",
        "# algorithm\n",
        "from sklearn.linear_model import LogisticRegression\n",
        "from sklearn.neighbors import KNeighborsClassifier\n",
        "from sklearn.tree import DecisionTreeClassifier\n",
        "from sklearn.ensemble import RandomForestClassifier\n",
        "from sklearn.ensemble import AdaBoostClassifier\n",
        "from xgboost import XGBClassifier\n",
        "from lightgbm import LGBMClassifier\n",
        "\n",
        "# More deep learning\n",
        "import tensorflow as tf"
      ],
      "metadata": {
        "id": "OtoA0hv24lFX"
      },
      "execution_count": 4,
      "outputs": []
    },
    {
      "cell_type": "code",
      "execution_count": 8,
      "metadata": {
        "colab": {
          "base_uri": "https://localhost:8080/",
          "height": 496
        },
        "id": "crTJ-RHv2mxd",
        "outputId": "fd51fad2-d641-4d35-f949-40078aa04165"
      },
      "outputs": [
        {
          "output_type": "execute_result",
          "data": {
            "text/plain": [
              "        EIN                                      NAME APPLICATION_TYPE  \\\n",
              "0  10520599              BLUE KNIGHTS MOTORCYCLE CLUB              T10   \n",
              "1  10531628    AMERICAN CHESAPEAKE CLUB CHARITABLE TR               T3   \n",
              "2  10547893        ST CLOUD PROFESSIONAL FIREFIGHTERS               T5   \n",
              "3  10553066            SOUTHSIDE ATHLETIC ASSOCIATION               T3   \n",
              "4  10556103  GENETIC RESEARCH INSTITUTE OF THE DESERT               T3   \n",
              "\n",
              "        AFFILIATION CLASSIFICATION      USE_CASE  ORGANIZATION  STATUS  \\\n",
              "0       Independent          C1000    ProductDev   Association       1   \n",
              "1       Independent          C2000  Preservation  Co-operative       1   \n",
              "2  CompanySponsored          C3000    ProductDev   Association       1   \n",
              "3  CompanySponsored          C2000  Preservation         Trust       1   \n",
              "4       Independent          C1000     Heathcare         Trust       1   \n",
              "\n",
              "      INCOME_AMT SPECIAL_CONSIDERATIONS  ASK_AMT  IS_SUCCESSFUL  \n",
              "0              0                      N     5000              1  \n",
              "1         1-9999                      N   108590              1  \n",
              "2              0                      N     5000              0  \n",
              "3    10000-24999                      N     6692              1  \n",
              "4  100000-499999                      N   142590              1  "
            ],
            "text/html": [
              "\n",
              "  <div id=\"df-ad650897-9349-4996-bb4a-a870d162280b\">\n",
              "    <div class=\"colab-df-container\">\n",
              "      <div>\n",
              "<style scoped>\n",
              "    .dataframe tbody tr th:only-of-type {\n",
              "        vertical-align: middle;\n",
              "    }\n",
              "\n",
              "    .dataframe tbody tr th {\n",
              "        vertical-align: top;\n",
              "    }\n",
              "\n",
              "    .dataframe thead th {\n",
              "        text-align: right;\n",
              "    }\n",
              "</style>\n",
              "<table border=\"1\" class=\"dataframe\">\n",
              "  <thead>\n",
              "    <tr style=\"text-align: right;\">\n",
              "      <th></th>\n",
              "      <th>EIN</th>\n",
              "      <th>NAME</th>\n",
              "      <th>APPLICATION_TYPE</th>\n",
              "      <th>AFFILIATION</th>\n",
              "      <th>CLASSIFICATION</th>\n",
              "      <th>USE_CASE</th>\n",
              "      <th>ORGANIZATION</th>\n",
              "      <th>STATUS</th>\n",
              "      <th>INCOME_AMT</th>\n",
              "      <th>SPECIAL_CONSIDERATIONS</th>\n",
              "      <th>ASK_AMT</th>\n",
              "      <th>IS_SUCCESSFUL</th>\n",
              "    </tr>\n",
              "  </thead>\n",
              "  <tbody>\n",
              "    <tr>\n",
              "      <th>0</th>\n",
              "      <td>10520599</td>\n",
              "      <td>BLUE KNIGHTS MOTORCYCLE CLUB</td>\n",
              "      <td>T10</td>\n",
              "      <td>Independent</td>\n",
              "      <td>C1000</td>\n",
              "      <td>ProductDev</td>\n",
              "      <td>Association</td>\n",
              "      <td>1</td>\n",
              "      <td>0</td>\n",
              "      <td>N</td>\n",
              "      <td>5000</td>\n",
              "      <td>1</td>\n",
              "    </tr>\n",
              "    <tr>\n",
              "      <th>1</th>\n",
              "      <td>10531628</td>\n",
              "      <td>AMERICAN CHESAPEAKE CLUB CHARITABLE TR</td>\n",
              "      <td>T3</td>\n",
              "      <td>Independent</td>\n",
              "      <td>C2000</td>\n",
              "      <td>Preservation</td>\n",
              "      <td>Co-operative</td>\n",
              "      <td>1</td>\n",
              "      <td>1-9999</td>\n",
              "      <td>N</td>\n",
              "      <td>108590</td>\n",
              "      <td>1</td>\n",
              "    </tr>\n",
              "    <tr>\n",
              "      <th>2</th>\n",
              "      <td>10547893</td>\n",
              "      <td>ST CLOUD PROFESSIONAL FIREFIGHTERS</td>\n",
              "      <td>T5</td>\n",
              "      <td>CompanySponsored</td>\n",
              "      <td>C3000</td>\n",
              "      <td>ProductDev</td>\n",
              "      <td>Association</td>\n",
              "      <td>1</td>\n",
              "      <td>0</td>\n",
              "      <td>N</td>\n",
              "      <td>5000</td>\n",
              "      <td>0</td>\n",
              "    </tr>\n",
              "    <tr>\n",
              "      <th>3</th>\n",
              "      <td>10553066</td>\n",
              "      <td>SOUTHSIDE ATHLETIC ASSOCIATION</td>\n",
              "      <td>T3</td>\n",
              "      <td>CompanySponsored</td>\n",
              "      <td>C2000</td>\n",
              "      <td>Preservation</td>\n",
              "      <td>Trust</td>\n",
              "      <td>1</td>\n",
              "      <td>10000-24999</td>\n",
              "      <td>N</td>\n",
              "      <td>6692</td>\n",
              "      <td>1</td>\n",
              "    </tr>\n",
              "    <tr>\n",
              "      <th>4</th>\n",
              "      <td>10556103</td>\n",
              "      <td>GENETIC RESEARCH INSTITUTE OF THE DESERT</td>\n",
              "      <td>T3</td>\n",
              "      <td>Independent</td>\n",
              "      <td>C1000</td>\n",
              "      <td>Heathcare</td>\n",
              "      <td>Trust</td>\n",
              "      <td>1</td>\n",
              "      <td>100000-499999</td>\n",
              "      <td>N</td>\n",
              "      <td>142590</td>\n",
              "      <td>1</td>\n",
              "    </tr>\n",
              "  </tbody>\n",
              "</table>\n",
              "</div>\n",
              "      <button class=\"colab-df-convert\" onclick=\"convertToInteractive('df-ad650897-9349-4996-bb4a-a870d162280b')\"\n",
              "              title=\"Convert this dataframe to an interactive table.\"\n",
              "              style=\"display:none;\">\n",
              "        \n",
              "  <svg xmlns=\"http://www.w3.org/2000/svg\" height=\"24px\"viewBox=\"0 0 24 24\"\n",
              "       width=\"24px\">\n",
              "    <path d=\"M0 0h24v24H0V0z\" fill=\"none\"/>\n",
              "    <path d=\"M18.56 5.44l.94 2.06.94-2.06 2.06-.94-2.06-.94-.94-2.06-.94 2.06-2.06.94zm-11 1L8.5 8.5l.94-2.06 2.06-.94-2.06-.94L8.5 2.5l-.94 2.06-2.06.94zm10 10l.94 2.06.94-2.06 2.06-.94-2.06-.94-.94-2.06-.94 2.06-2.06.94z\"/><path d=\"M17.41 7.96l-1.37-1.37c-.4-.4-.92-.59-1.43-.59-.52 0-1.04.2-1.43.59L10.3 9.45l-7.72 7.72c-.78.78-.78 2.05 0 2.83L4 21.41c.39.39.9.59 1.41.59.51 0 1.02-.2 1.41-.59l7.78-7.78 2.81-2.81c.8-.78.8-2.07 0-2.86zM5.41 20L4 18.59l7.72-7.72 1.47 1.35L5.41 20z\"/>\n",
              "  </svg>\n",
              "      </button>\n",
              "      \n",
              "  <style>\n",
              "    .colab-df-container {\n",
              "      display:flex;\n",
              "      flex-wrap:wrap;\n",
              "      gap: 12px;\n",
              "    }\n",
              "\n",
              "    .colab-df-convert {\n",
              "      background-color: #E8F0FE;\n",
              "      border: none;\n",
              "      border-radius: 50%;\n",
              "      cursor: pointer;\n",
              "      display: none;\n",
              "      fill: #1967D2;\n",
              "      height: 32px;\n",
              "      padding: 0 0 0 0;\n",
              "      width: 32px;\n",
              "    }\n",
              "\n",
              "    .colab-df-convert:hover {\n",
              "      background-color: #E2EBFA;\n",
              "      box-shadow: 0px 1px 2px rgba(60, 64, 67, 0.3), 0px 1px 3px 1px rgba(60, 64, 67, 0.15);\n",
              "      fill: #174EA6;\n",
              "    }\n",
              "\n",
              "    [theme=dark] .colab-df-convert {\n",
              "      background-color: #3B4455;\n",
              "      fill: #D2E3FC;\n",
              "    }\n",
              "\n",
              "    [theme=dark] .colab-df-convert:hover {\n",
              "      background-color: #434B5C;\n",
              "      box-shadow: 0px 1px 3px 1px rgba(0, 0, 0, 0.15);\n",
              "      filter: drop-shadow(0px 1px 2px rgba(0, 0, 0, 0.3));\n",
              "      fill: #FFFFFF;\n",
              "    }\n",
              "  </style>\n",
              "\n",
              "      <script>\n",
              "        const buttonEl =\n",
              "          document.querySelector('#df-ad650897-9349-4996-bb4a-a870d162280b button.colab-df-convert');\n",
              "        buttonEl.style.display =\n",
              "          google.colab.kernel.accessAllowed ? 'block' : 'none';\n",
              "\n",
              "        async function convertToInteractive(key) {\n",
              "          const element = document.querySelector('#df-ad650897-9349-4996-bb4a-a870d162280b');\n",
              "          const dataTable =\n",
              "            await google.colab.kernel.invokeFunction('convertToInteractive',\n",
              "                                                     [key], {});\n",
              "          if (!dataTable) return;\n",
              "\n",
              "          const docLinkHtml = 'Like what you see? Visit the ' +\n",
              "            '<a target=\"_blank\" href=https://colab.research.google.com/notebooks/data_table.ipynb>data table notebook</a>'\n",
              "            + ' to learn more about interactive tables.';\n",
              "          element.innerHTML = '';\n",
              "          dataTable['output_type'] = 'display_data';\n",
              "          await google.colab.output.renderOutput(dataTable, element);\n",
              "          const docLink = document.createElement('div');\n",
              "          docLink.innerHTML = docLinkHtml;\n",
              "          element.appendChild(docLink);\n",
              "        }\n",
              "      </script>\n",
              "    </div>\n",
              "  </div>\n",
              "  "
            ]
          },
          "metadata": {},
          "execution_count": 8
        }
      ],
      "source": [
        "#  Import and read the charity_data.csv.\n",
        "df = pd.read_csv(\"charity_data.csv\")\n",
        "df.head()"
      ]
    },
    {
      "cell_type": "code",
      "source": [
        "df.info()"
      ],
      "metadata": {
        "colab": {
          "base_uri": "https://localhost:8080/"
        },
        "id": "tWxovqUy6VBp",
        "outputId": "599d0985-2c0a-4419-f80e-b09605e4b9b3"
      },
      "execution_count": 9,
      "outputs": [
        {
          "output_type": "stream",
          "name": "stdout",
          "text": [
            "<class 'pandas.core.frame.DataFrame'>\n",
            "RangeIndex: 34299 entries, 0 to 34298\n",
            "Data columns (total 12 columns):\n",
            " #   Column                  Non-Null Count  Dtype \n",
            "---  ------                  --------------  ----- \n",
            " 0   EIN                     34299 non-null  int64 \n",
            " 1   NAME                    34299 non-null  object\n",
            " 2   APPLICATION_TYPE        34299 non-null  object\n",
            " 3   AFFILIATION             34299 non-null  object\n",
            " 4   CLASSIFICATION          34299 non-null  object\n",
            " 5   USE_CASE                34299 non-null  object\n",
            " 6   ORGANIZATION            34299 non-null  object\n",
            " 7   STATUS                  34299 non-null  int64 \n",
            " 8   INCOME_AMT              34299 non-null  object\n",
            " 9   SPECIAL_CONSIDERATIONS  34299 non-null  object\n",
            " 10  ASK_AMT                 34299 non-null  int64 \n",
            " 11  IS_SUCCESSFUL           34299 non-null  int64 \n",
            "dtypes: int64(4), object(8)\n",
            "memory usage: 3.1+ MB\n"
          ]
        }
      ]
    },
    {
      "cell_type": "code",
      "execution_count": 10,
      "metadata": {
        "id": "FVm6AYoM2mxe"
      },
      "outputs": [],
      "source": [
        "# Drop the non-beneficial ID columns, 'EIN' and 'NAME'.\n",
        "df = df.drop(columns=[\"EIN\", \"NAME\"])"
      ]
    },
    {
      "cell_type": "code",
      "execution_count": 11,
      "metadata": {
        "id": "X7TP9cfu2mxf",
        "colab": {
          "base_uri": "https://localhost:8080/"
        },
        "outputId": "caee513e-0768-4371-c8d5-0c33d4ce9e3a"
      },
      "outputs": [
        {
          "output_type": "execute_result",
          "data": {
            "text/plain": [
              "APPLICATION_TYPE            17\n",
              "AFFILIATION                  6\n",
              "CLASSIFICATION              71\n",
              "USE_CASE                     5\n",
              "ORGANIZATION                 4\n",
              "STATUS                       2\n",
              "INCOME_AMT                   9\n",
              "SPECIAL_CONSIDERATIONS       2\n",
              "ASK_AMT                   8747\n",
              "IS_SUCCESSFUL                2\n",
              "dtype: int64"
            ]
          },
          "metadata": {},
          "execution_count": 11
        }
      ],
      "source": [
        "# Determine the number of unique values in each column.\n",
        "#Possible onehots for values below 9\n",
        "df.nunique()"
      ]
    },
    {
      "cell_type": "code",
      "execution_count": 13,
      "metadata": {
        "id": "a6JF2tca2mxf",
        "colab": {
          "base_uri": "https://localhost:8080/"
        },
        "outputId": "e5c7af83-7cc9-42f3-d238-0f522f8691e0"
      },
      "outputs": [
        {
          "output_type": "execute_result",
          "data": {
            "text/plain": [
              "T3     27037\n",
              "T4      1542\n",
              "T6      1216\n",
              "T5      1173\n",
              "T19     1065\n",
              "T8       737\n",
              "T7       725\n",
              "T10      528\n",
              "T9       156\n",
              "T13       66\n",
              "T12       27\n",
              "T2        16\n",
              "T25        3\n",
              "T14        3\n",
              "T29        2\n",
              "T15        2\n",
              "T17        1\n",
              "Name: APPLICATION_TYPE, dtype: int64"
            ]
          },
          "metadata": {},
          "execution_count": 13
        }
      ],
      "source": [
        "# Look at APPLICATION_TYPE value counts for binning\n",
        "#Visable drop off at T9\n",
        "df.APPLICATION_TYPE.value_counts()"
      ]
    },
    {
      "cell_type": "code",
      "execution_count": 16,
      "metadata": {
        "id": "XFIte4VT2mxf",
        "colab": {
          "base_uri": "https://localhost:8080/"
        },
        "outputId": "a044d22e-7779-444f-8d5c-a8331e0248cc"
      },
      "outputs": [
        {
          "output_type": "execute_result",
          "data": {
            "text/plain": [
              "T3       27037\n",
              "T4        1542\n",
              "T6        1216\n",
              "T5        1173\n",
              "T19       1065\n",
              "T8         737\n",
              "T7         725\n",
              "T10        528\n",
              "Other      276\n",
              "Name: APPLICATION_TYPE, dtype: int64"
            ]
          },
          "metadata": {},
          "execution_count": 16
        }
      ],
      "source": [
        "# Choose a cutoff value and create a list of application types to be replaced\n",
        "# use the variable name `application_types_to_replace`\n",
        "application_types_to_replace = [\"T9\", \"T13\", \"T12\", \"T2\", \"T25\", \"T14\", \"T29\", \"T15\", \"T17\"]\n",
        "\n",
        "# Replace in dataframe\n",
        "for app in application_types_to_replace:\n",
        "    df['APPLICATION_TYPE'] = df['APPLICATION_TYPE'].replace(app,\"Other\")\n",
        "\n",
        "# Check to make sure binning was successful\n",
        "df['APPLICATION_TYPE'].value_counts()"
      ]
    },
    {
      "cell_type": "code",
      "execution_count": 17,
      "metadata": {
        "id": "_ddi2JSJ2mxg",
        "colab": {
          "base_uri": "https://localhost:8080/"
        },
        "outputId": "547b734c-263f-4ac3-ed73-b6e29a9a379d"
      },
      "outputs": [
        {
          "output_type": "execute_result",
          "data": {
            "text/plain": [
              "C1000    17326\n",
              "C2000     6074\n",
              "C1200     4837\n",
              "C3000     1918\n",
              "C2100     1883\n",
              "         ...  \n",
              "C4120        1\n",
              "C8210        1\n",
              "C2561        1\n",
              "C4500        1\n",
              "C2150        1\n",
              "Name: CLASSIFICATION, Length: 71, dtype: int64"
            ]
          },
          "metadata": {},
          "execution_count": 17
        }
      ],
      "source": [
        "# Look at CLASSIFICATION value counts for binning\n",
        "df.CLASSIFICATION.value_counts()"
      ]
    },
    {
      "cell_type": "code",
      "execution_count": 19,
      "metadata": {
        "id": "Aruk4cwo2mxg",
        "colab": {
          "base_uri": "https://localhost:8080/"
        },
        "outputId": "dc9007f2-20fb-4d33-f9ce-ab77e98d7ee5"
      },
      "outputs": [
        {
          "output_type": "execute_result",
          "data": {
            "text/plain": [
              "C1000    17326\n",
              "C2000     6074\n",
              "C1200     4837\n",
              "C3000     1918\n",
              "C2100     1883\n",
              "C7000      777\n",
              "C1700      287\n",
              "C4000      194\n",
              "C5000      116\n",
              "C1270      114\n",
              "C2700      104\n",
              "C2800       95\n",
              "C7100       75\n",
              "C1300       58\n",
              "C1280       50\n",
              "C1230       36\n",
              "C1400       34\n",
              "C7200       32\n",
              "C2300       32\n",
              "C1240       30\n",
              "C8000       20\n",
              "C7120       18\n",
              "C1500       16\n",
              "C1800       15\n",
              "C6000       15\n",
              "C1250       14\n",
              "C8200       11\n",
              "C1238       10\n",
              "C1278       10\n",
              "C1235        9\n",
              "C1237        9\n",
              "C7210        7\n",
              "C2400        6\n",
              "C1720        6\n",
              "C4100        6\n",
              "C1257        5\n",
              "C1600        5\n",
              "C1260        3\n",
              "C2710        3\n",
              "C0           3\n",
              "C3200        2\n",
              "C1234        2\n",
              "C1246        2\n",
              "C1267        2\n",
              "C1256        2\n",
              "Name: CLASSIFICATION, dtype: int64"
            ]
          },
          "metadata": {},
          "execution_count": 19
        }
      ],
      "source": [
        "# You may find it helpful to look at CLASSIFICATION value counts >1\n",
        "#Cutoff after 500\n",
        "df.CLASSIFICATION.value_counts()[df.CLASSIFICATION.value_counts() > 1]"
      ]
    },
    {
      "cell_type": "code",
      "execution_count": 21,
      "metadata": {
        "id": "H4uB1sCa2mxh",
        "colab": {
          "base_uri": "https://localhost:8080/"
        },
        "outputId": "f6cfe831-5213-481c-90dd-23932657afc4"
      },
      "outputs": [
        {
          "output_type": "execute_result",
          "data": {
            "text/plain": [
              "C1000    17326\n",
              "C2000     6074\n",
              "C1200     4837\n",
              "Other     2261\n",
              "C3000     1918\n",
              "C2100     1883\n",
              "Name: CLASSIFICATION, dtype: int64"
            ]
          },
          "metadata": {},
          "execution_count": 21
        }
      ],
      "source": [
        "# Choose a cutoff value and create a list of classifications to be replaced\n",
        "# use the variable name `classifications_to_replace`\n",
        "classifications_to_replace = [row[\"index\"] for indx, row in df.CLASSIFICATION.value_counts().reset_index().iterrows() if row.CLASSIFICATION <1500]\n",
        "\n",
        "# Replace in dataframe\n",
        "for cls in classifications_to_replace:\n",
        "    df['CLASSIFICATION'] = df['CLASSIFICATION'].replace(cls,\"Other\")\n",
        "    \n",
        "# Check to make sure binning was successful\n",
        "df['CLASSIFICATION'].value_counts()"
      ]
    },
    {
      "cell_type": "code",
      "execution_count": 22,
      "metadata": {
        "id": "HsCpsb1H2mxh",
        "colab": {
          "base_uri": "https://localhost:8080/",
          "height": 317
        },
        "outputId": "537f345d-0265-4bfe-e161-2ab02607f170"
      },
      "outputs": [
        {
          "output_type": "execute_result",
          "data": {
            "text/plain": [
              "   STATUS  ASK_AMT  IS_SUCCESSFUL  APPLICATION_TYPE_Other  \\\n",
              "0       1     5000              1                       0   \n",
              "1       1   108590              1                       0   \n",
              "2       1     5000              0                       0   \n",
              "3       1     6692              1                       0   \n",
              "4       1   142590              1                       0   \n",
              "\n",
              "   APPLICATION_TYPE_T10  APPLICATION_TYPE_T19  APPLICATION_TYPE_T3  \\\n",
              "0                     1                     0                    0   \n",
              "1                     0                     0                    1   \n",
              "2                     0                     0                    0   \n",
              "3                     0                     0                    1   \n",
              "4                     0                     0                    1   \n",
              "\n",
              "   APPLICATION_TYPE_T4  APPLICATION_TYPE_T5  APPLICATION_TYPE_T6  ...  \\\n",
              "0                    0                    0                    0  ...   \n",
              "1                    0                    0                    0  ...   \n",
              "2                    0                    1                    0  ...   \n",
              "3                    0                    0                    0  ...   \n",
              "4                    0                    0                    0  ...   \n",
              "\n",
              "   INCOME_AMT_1-9999  INCOME_AMT_10000-24999  INCOME_AMT_100000-499999  \\\n",
              "0                  0                       0                         0   \n",
              "1                  1                       0                         0   \n",
              "2                  0                       0                         0   \n",
              "3                  0                       1                         0   \n",
              "4                  0                       0                         1   \n",
              "\n",
              "   INCOME_AMT_10M-50M  INCOME_AMT_1M-5M  INCOME_AMT_25000-99999  \\\n",
              "0                   0                 0                       0   \n",
              "1                   0                 0                       0   \n",
              "2                   0                 0                       0   \n",
              "3                   0                 0                       0   \n",
              "4                   0                 0                       0   \n",
              "\n",
              "   INCOME_AMT_50M+  INCOME_AMT_5M-10M  SPECIAL_CONSIDERATIONS_N  \\\n",
              "0                0                  0                         1   \n",
              "1                0                  0                         1   \n",
              "2                0                  0                         1   \n",
              "3                0                  0                         1   \n",
              "4                0                  0                         1   \n",
              "\n",
              "   SPECIAL_CONSIDERATIONS_Y  \n",
              "0                         0  \n",
              "1                         0  \n",
              "2                         0  \n",
              "3                         0  \n",
              "4                         0  \n",
              "\n",
              "[5 rows x 44 columns]"
            ],
            "text/html": [
              "\n",
              "  <div id=\"df-6012e38b-b7d5-41f8-91b5-5026a4835f81\">\n",
              "    <div class=\"colab-df-container\">\n",
              "      <div>\n",
              "<style scoped>\n",
              "    .dataframe tbody tr th:only-of-type {\n",
              "        vertical-align: middle;\n",
              "    }\n",
              "\n",
              "    .dataframe tbody tr th {\n",
              "        vertical-align: top;\n",
              "    }\n",
              "\n",
              "    .dataframe thead th {\n",
              "        text-align: right;\n",
              "    }\n",
              "</style>\n",
              "<table border=\"1\" class=\"dataframe\">\n",
              "  <thead>\n",
              "    <tr style=\"text-align: right;\">\n",
              "      <th></th>\n",
              "      <th>STATUS</th>\n",
              "      <th>ASK_AMT</th>\n",
              "      <th>IS_SUCCESSFUL</th>\n",
              "      <th>APPLICATION_TYPE_Other</th>\n",
              "      <th>APPLICATION_TYPE_T10</th>\n",
              "      <th>APPLICATION_TYPE_T19</th>\n",
              "      <th>APPLICATION_TYPE_T3</th>\n",
              "      <th>APPLICATION_TYPE_T4</th>\n",
              "      <th>APPLICATION_TYPE_T5</th>\n",
              "      <th>APPLICATION_TYPE_T6</th>\n",
              "      <th>...</th>\n",
              "      <th>INCOME_AMT_1-9999</th>\n",
              "      <th>INCOME_AMT_10000-24999</th>\n",
              "      <th>INCOME_AMT_100000-499999</th>\n",
              "      <th>INCOME_AMT_10M-50M</th>\n",
              "      <th>INCOME_AMT_1M-5M</th>\n",
              "      <th>INCOME_AMT_25000-99999</th>\n",
              "      <th>INCOME_AMT_50M+</th>\n",
              "      <th>INCOME_AMT_5M-10M</th>\n",
              "      <th>SPECIAL_CONSIDERATIONS_N</th>\n",
              "      <th>SPECIAL_CONSIDERATIONS_Y</th>\n",
              "    </tr>\n",
              "  </thead>\n",
              "  <tbody>\n",
              "    <tr>\n",
              "      <th>0</th>\n",
              "      <td>1</td>\n",
              "      <td>5000</td>\n",
              "      <td>1</td>\n",
              "      <td>0</td>\n",
              "      <td>1</td>\n",
              "      <td>0</td>\n",
              "      <td>0</td>\n",
              "      <td>0</td>\n",
              "      <td>0</td>\n",
              "      <td>0</td>\n",
              "      <td>...</td>\n",
              "      <td>0</td>\n",
              "      <td>0</td>\n",
              "      <td>0</td>\n",
              "      <td>0</td>\n",
              "      <td>0</td>\n",
              "      <td>0</td>\n",
              "      <td>0</td>\n",
              "      <td>0</td>\n",
              "      <td>1</td>\n",
              "      <td>0</td>\n",
              "    </tr>\n",
              "    <tr>\n",
              "      <th>1</th>\n",
              "      <td>1</td>\n",
              "      <td>108590</td>\n",
              "      <td>1</td>\n",
              "      <td>0</td>\n",
              "      <td>0</td>\n",
              "      <td>0</td>\n",
              "      <td>1</td>\n",
              "      <td>0</td>\n",
              "      <td>0</td>\n",
              "      <td>0</td>\n",
              "      <td>...</td>\n",
              "      <td>1</td>\n",
              "      <td>0</td>\n",
              "      <td>0</td>\n",
              "      <td>0</td>\n",
              "      <td>0</td>\n",
              "      <td>0</td>\n",
              "      <td>0</td>\n",
              "      <td>0</td>\n",
              "      <td>1</td>\n",
              "      <td>0</td>\n",
              "    </tr>\n",
              "    <tr>\n",
              "      <th>2</th>\n",
              "      <td>1</td>\n",
              "      <td>5000</td>\n",
              "      <td>0</td>\n",
              "      <td>0</td>\n",
              "      <td>0</td>\n",
              "      <td>0</td>\n",
              "      <td>0</td>\n",
              "      <td>0</td>\n",
              "      <td>1</td>\n",
              "      <td>0</td>\n",
              "      <td>...</td>\n",
              "      <td>0</td>\n",
              "      <td>0</td>\n",
              "      <td>0</td>\n",
              "      <td>0</td>\n",
              "      <td>0</td>\n",
              "      <td>0</td>\n",
              "      <td>0</td>\n",
              "      <td>0</td>\n",
              "      <td>1</td>\n",
              "      <td>0</td>\n",
              "    </tr>\n",
              "    <tr>\n",
              "      <th>3</th>\n",
              "      <td>1</td>\n",
              "      <td>6692</td>\n",
              "      <td>1</td>\n",
              "      <td>0</td>\n",
              "      <td>0</td>\n",
              "      <td>0</td>\n",
              "      <td>1</td>\n",
              "      <td>0</td>\n",
              "      <td>0</td>\n",
              "      <td>0</td>\n",
              "      <td>...</td>\n",
              "      <td>0</td>\n",
              "      <td>1</td>\n",
              "      <td>0</td>\n",
              "      <td>0</td>\n",
              "      <td>0</td>\n",
              "      <td>0</td>\n",
              "      <td>0</td>\n",
              "      <td>0</td>\n",
              "      <td>1</td>\n",
              "      <td>0</td>\n",
              "    </tr>\n",
              "    <tr>\n",
              "      <th>4</th>\n",
              "      <td>1</td>\n",
              "      <td>142590</td>\n",
              "      <td>1</td>\n",
              "      <td>0</td>\n",
              "      <td>0</td>\n",
              "      <td>0</td>\n",
              "      <td>1</td>\n",
              "      <td>0</td>\n",
              "      <td>0</td>\n",
              "      <td>0</td>\n",
              "      <td>...</td>\n",
              "      <td>0</td>\n",
              "      <td>0</td>\n",
              "      <td>1</td>\n",
              "      <td>0</td>\n",
              "      <td>0</td>\n",
              "      <td>0</td>\n",
              "      <td>0</td>\n",
              "      <td>0</td>\n",
              "      <td>1</td>\n",
              "      <td>0</td>\n",
              "    </tr>\n",
              "  </tbody>\n",
              "</table>\n",
              "<p>5 rows × 44 columns</p>\n",
              "</div>\n",
              "      <button class=\"colab-df-convert\" onclick=\"convertToInteractive('df-6012e38b-b7d5-41f8-91b5-5026a4835f81')\"\n",
              "              title=\"Convert this dataframe to an interactive table.\"\n",
              "              style=\"display:none;\">\n",
              "        \n",
              "  <svg xmlns=\"http://www.w3.org/2000/svg\" height=\"24px\"viewBox=\"0 0 24 24\"\n",
              "       width=\"24px\">\n",
              "    <path d=\"M0 0h24v24H0V0z\" fill=\"none\"/>\n",
              "    <path d=\"M18.56 5.44l.94 2.06.94-2.06 2.06-.94-2.06-.94-.94-2.06-.94 2.06-2.06.94zm-11 1L8.5 8.5l.94-2.06 2.06-.94-2.06-.94L8.5 2.5l-.94 2.06-2.06.94zm10 10l.94 2.06.94-2.06 2.06-.94-2.06-.94-.94-2.06-.94 2.06-2.06.94z\"/><path d=\"M17.41 7.96l-1.37-1.37c-.4-.4-.92-.59-1.43-.59-.52 0-1.04.2-1.43.59L10.3 9.45l-7.72 7.72c-.78.78-.78 2.05 0 2.83L4 21.41c.39.39.9.59 1.41.59.51 0 1.02-.2 1.41-.59l7.78-7.78 2.81-2.81c.8-.78.8-2.07 0-2.86zM5.41 20L4 18.59l7.72-7.72 1.47 1.35L5.41 20z\"/>\n",
              "  </svg>\n",
              "      </button>\n",
              "      \n",
              "  <style>\n",
              "    .colab-df-container {\n",
              "      display:flex;\n",
              "      flex-wrap:wrap;\n",
              "      gap: 12px;\n",
              "    }\n",
              "\n",
              "    .colab-df-convert {\n",
              "      background-color: #E8F0FE;\n",
              "      border: none;\n",
              "      border-radius: 50%;\n",
              "      cursor: pointer;\n",
              "      display: none;\n",
              "      fill: #1967D2;\n",
              "      height: 32px;\n",
              "      padding: 0 0 0 0;\n",
              "      width: 32px;\n",
              "    }\n",
              "\n",
              "    .colab-df-convert:hover {\n",
              "      background-color: #E2EBFA;\n",
              "      box-shadow: 0px 1px 2px rgba(60, 64, 67, 0.3), 0px 1px 3px 1px rgba(60, 64, 67, 0.15);\n",
              "      fill: #174EA6;\n",
              "    }\n",
              "\n",
              "    [theme=dark] .colab-df-convert {\n",
              "      background-color: #3B4455;\n",
              "      fill: #D2E3FC;\n",
              "    }\n",
              "\n",
              "    [theme=dark] .colab-df-convert:hover {\n",
              "      background-color: #434B5C;\n",
              "      box-shadow: 0px 1px 3px 1px rgba(0, 0, 0, 0.15);\n",
              "      filter: drop-shadow(0px 1px 2px rgba(0, 0, 0, 0.3));\n",
              "      fill: #FFFFFF;\n",
              "    }\n",
              "  </style>\n",
              "\n",
              "      <script>\n",
              "        const buttonEl =\n",
              "          document.querySelector('#df-6012e38b-b7d5-41f8-91b5-5026a4835f81 button.colab-df-convert');\n",
              "        buttonEl.style.display =\n",
              "          google.colab.kernel.accessAllowed ? 'block' : 'none';\n",
              "\n",
              "        async function convertToInteractive(key) {\n",
              "          const element = document.querySelector('#df-6012e38b-b7d5-41f8-91b5-5026a4835f81');\n",
              "          const dataTable =\n",
              "            await google.colab.kernel.invokeFunction('convertToInteractive',\n",
              "                                                     [key], {});\n",
              "          if (!dataTable) return;\n",
              "\n",
              "          const docLinkHtml = 'Like what you see? Visit the ' +\n",
              "            '<a target=\"_blank\" href=https://colab.research.google.com/notebooks/data_table.ipynb>data table notebook</a>'\n",
              "            + ' to learn more about interactive tables.';\n",
              "          element.innerHTML = '';\n",
              "          dataTable['output_type'] = 'display_data';\n",
              "          await google.colab.output.renderOutput(dataTable, element);\n",
              "          const docLink = document.createElement('div');\n",
              "          docLink.innerHTML = docLinkHtml;\n",
              "          element.appendChild(docLink);\n",
              "        }\n",
              "      </script>\n",
              "    </div>\n",
              "  </div>\n",
              "  "
            ]
          },
          "metadata": {},
          "execution_count": 22
        }
      ],
      "source": [
        "# Convert categorical data to numeric with `pd.get_dummies`\n",
        "df = pd.get_dummies(df)\n",
        "df.head()"
      ]
    },
    {
      "cell_type": "code",
      "source": [
        "df.IS_SUCCESSFUL.value_counts()"
      ],
      "metadata": {
        "colab": {
          "base_uri": "https://localhost:8080/"
        },
        "id": "EJHr5PxY9ysd",
        "outputId": "f7cd1996-0c64-4ab3-9268-664b30b430c0"
      },
      "execution_count": 23,
      "outputs": [
        {
          "output_type": "execute_result",
          "data": {
            "text/plain": [
              "1    18261\n",
              "0    16038\n",
              "Name: IS_SUCCESSFUL, dtype: int64"
            ]
          },
          "metadata": {},
          "execution_count": 23
        }
      ]
    },
    {
      "cell_type": "code",
      "source": [
        "#Look at correlations\n",
        "\n",
        "corrs = df.corr()\n",
        "sns.heatmap(corrs)\n",
        "plt.show()"
      ],
      "metadata": {
        "colab": {
          "base_uri": "https://localhost:8080/",
          "height": 424
        },
        "id": "mLvwCnb_94gN",
        "outputId": "6266349b-ac3b-4973-eedd-7da3edc9a9a8"
      },
      "execution_count": 25,
      "outputs": [
        {
          "output_type": "display_data",
          "data": {
            "text/plain": [
              "<Figure size 432x288 with 2 Axes>"
            ],
            "image/png": "[encoded data removed]"
          },
          "metadata": {
            "needs_background": "light"
          }
        }
      ]
    },
    {
      "cell_type": "code",
      "execution_count": 26,
      "metadata": {
        "id": "OcZCrk1c2mxi",
        "colab": {
          "base_uri": "https://localhost:8080/"
        },
        "outputId": "81ed851e-dec8-4074-ac20-ffbe829137b1"
      },
      "outputs": [
        {
          "output_type": "stream",
          "name": "stdout",
          "text": [
            "0.7 : 0.3\n"
          ]
        }
      ],
      "source": [
        "# Split our preprocessed data into our features and target arrays\n",
        "X = df.drop(\"IS_SUCCESSFUL\", axis=1).values\n",
        "y = df.loc[:, [\"IS_SUCCESSFUL\"]].values.ravel()\n",
        "\n",
        "# Split the preprocessed data into a training and testing dataset\n",
        "X_train, X_test, y_train, y_test = train_test_split(X, y, test_size=.3, random_state=42, stratify=y)\n",
        "print(f\"{round(len(X_train)/len(X), 3)} : {round(len(X_test)/len(X), 3)}\")"
      ]
    },
    {
      "cell_type": "markdown",
      "source": [],
      "metadata": {
        "id": "eAxWKRg0_FuI"
      }
    },
    {
      "cell_type": "code",
      "execution_count": 27,
      "metadata": {
        "id": "VWUZi5_b2mxi"
      },
      "outputs": [],
      "source": [
        "# Create a StandardScaler instances\n",
        "scaler = StandardScaler()\n",
        "\n",
        "# Fit the StandardScaler\n",
        "X_scaler = scaler.fit(X_train)\n",
        "\n",
        "# Scale the data\n",
        "X_train_scaled = X_scaler.transform(X_train)\n",
        "X_test_scaled = X_scaler.transform(X_test)"
      ]
    },
    {
      "cell_type": "markdown",
      "metadata": {
        "id": "NCtKxSsz2mxi"
      },
      "source": [
        "## Compile, Train and Evaluate the Model"
      ]
    },
    {
      "cell_type": "code",
      "source": [
        "#Training model machine\n",
        "def evaluateModel(model, X_train, X_test, y_train, y_test):\n",
        "    model.fit(X_train, y_train) # fit\n",
        "    \n",
        "    train_preds = model.predict(X_train) # predict\n",
        "    test_preds = model.predict(X_test)\n",
        "    test_proba = model.predict_proba(X_test)\n",
        "    \n",
        "    output_train = f\"\"\"\n",
        "    METRICS FOR THE TRAINING SET:\n",
        "    ----------------------------\n",
        "    {confusion_matrix(y_train, train_preds)}\n",
        "\n",
        "    {classification_report(y_train, train_preds)}\n",
        "    \"\"\"\n",
        "    print(output_train)\n",
        "\n",
        "    #################################################\n",
        "\n",
        "    output_test = f\"\"\"\n",
        "    METRICS FOR THE TESTING SET:\n",
        "    ----------------------------\n",
        "    {confusion_matrix(y_test, test_preds)}\n",
        "\n",
        "    {classification_report(y_test, test_preds)}\n",
        "    \"\"\"\n",
        "    print(output_test)\n",
        "    print()\n",
        "    \n",
        "    #################################################\n",
        "    \n",
        "    fpr_knn, tpr_knn, thresholds_knn = roc_curve(y_test, test_proba[:,1])\n",
        "\n",
        "    roc_auc_knn = auc(fpr_knn, tpr_knn)\n",
        "    print(f\"AUC for the Model Test Set: {roc_auc_knn}\")\n",
        "\n",
        "    # make plot\n",
        "    plt.figure(figsize=(10,6))\n",
        "    plt.plot(fpr_knn, tpr_knn, color='darkorange')\n",
        "    plt.plot([0, 1], [0, 1], color='navy', linestyle='--')\n",
        "    plt.xlim([0.0, 1.0])\n",
        "    plt.ylim([0.0, 1.05])\n",
        "    plt.xlabel('False Positive Rate')\n",
        "    plt.ylabel('True Positive Rate')\n",
        "    plt.title('ROC Curve')\n",
        "    plt.show()\n",
        "    \n",
        "    print(\"Brier Score:\")\n",
        "    print(sum((y_test - test_proba[:,1])**2))"
      ],
      "metadata": {
        "id": "VtnO0GwZ_KhA"
      },
      "execution_count": 28,
      "outputs": []
    },
    {
      "cell_type": "code",
      "source": [
        "#Logistic Regression model\n",
        "#Somewhat ok, no clear signs of overfitting\n",
        "#72% accuracy\n",
        "lr = LogisticRegression(max_iter=10000)\n",
        "evaluateModel(lr, X_train_scaled, X_test_scaled, y_train, y_test)"
      ],
      "metadata": {
        "colab": {
          "base_uri": "https://localhost:8080/",
          "height": 1000
        },
        "id": "mdL9PpK7_aFE",
        "outputId": "324702e9-41fd-4659-f4f2-2f4cfe41bc0e"
      },
      "execution_count": 29,
      "outputs": [
        {
          "output_type": "stream",
          "name": "stdout",
          "text": [
            "\n",
            "    METRICS FOR THE TRAINING SET:\n",
            "    ----------------------------\n",
            "    [[7604 3622]\n",
            " [2955 9828]]\n",
            "\n",
            "                  precision    recall  f1-score   support\n",
            "\n",
            "           0       0.72      0.68      0.70     11226\n",
            "           1       0.73      0.77      0.75     12783\n",
            "\n",
            "    accuracy                           0.73     24009\n",
            "   macro avg       0.73      0.72      0.72     24009\n",
            "weighted avg       0.73      0.73      0.73     24009\n",
            "\n",
            "    \n",
            "\n",
            "    METRICS FOR THE TESTING SET:\n",
            "    ----------------------------\n",
            "    [[3225 1587]\n",
            " [1305 4173]]\n",
            "\n",
            "                  precision    recall  f1-score   support\n",
            "\n",
            "           0       0.71      0.67      0.69      4812\n",
            "           1       0.72      0.76      0.74      5478\n",
            "\n",
            "    accuracy                           0.72     10290\n",
            "   macro avg       0.72      0.72      0.72     10290\n",
            "weighted avg       0.72      0.72      0.72     10290\n",
            "\n",
            "    \n",
            "\n",
            "AUC for the Model Test Set: 0.7589946804523315\n"
          ]
        },
        {
          "output_type": "display_data",
          "data": {
            "text/plain": [
              "<Figure size 720x432 with 1 Axes>"
            ],
            "image/png": "[encoded data removed]"
          },
          "metadata": {
            "needs_background": "light"
          }
        },
        {
          "output_type": "stream",
          "name": "stdout",
          "text": [
            "Brier Score:\n",
            "2025.7528150045111\n"
          ]
        }
      ]
    },
    {
      "cell_type": "code",
      "source": [
        "#Random Forest model\n",
        "#Signs of overfitting, seems worse than LR\n",
        "#71% accuracy testing model\n",
        "rf = RandomForestClassifier(random_state=42, n_estimators=100)\n",
        "\n",
        "evaluateModel(rf, X_train, X_test, y_train, y_test)"
      ],
      "metadata": {
        "colab": {
          "base_uri": "https://localhost:8080/",
          "height": 1000
        },
        "id": "U4xT-FRJ_mXM",
        "outputId": "51f870a6-c9ba-40fd-8771-7d5b977dcb34"
      },
      "execution_count": 30,
      "outputs": [
        {
          "output_type": "stream",
          "name": "stdout",
          "text": [
            "\n",
            "    METRICS FOR THE TRAINING SET:\n",
            "    ----------------------------\n",
            "    [[ 8977  2249]\n",
            " [ 2090 10693]]\n",
            "\n",
            "                  precision    recall  f1-score   support\n",
            "\n",
            "           0       0.81      0.80      0.81     11226\n",
            "           1       0.83      0.84      0.83     12783\n",
            "\n",
            "    accuracy                           0.82     24009\n",
            "   macro avg       0.82      0.82      0.82     24009\n",
            "weighted avg       0.82      0.82      0.82     24009\n",
            "\n",
            "    \n",
            "\n",
            "    METRICS FOR THE TESTING SET:\n",
            "    ----------------------------\n",
            "    [[3269 1543]\n",
            " [1439 4039]]\n",
            "\n",
            "                  precision    recall  f1-score   support\n",
            "\n",
            "           0       0.69      0.68      0.69      4812\n",
            "           1       0.72      0.74      0.73      5478\n",
            "\n",
            "    accuracy                           0.71     10290\n",
            "   macro avg       0.71      0.71      0.71     10290\n",
            "weighted avg       0.71      0.71      0.71     10290\n",
            "\n",
            "    \n",
            "\n",
            "AUC for the Model Test Set: 0.7550086425957743\n"
          ]
        },
        {
          "output_type": "display_data",
          "data": {
            "text/plain": [
              "<Figure size 720x432 with 1 Axes>"
            ],
            "image/png": "[encoded data removed]"
          },
          "metadata": {
            "needs_background": "light"
          }
        },
        {
          "output_type": "stream",
          "name": "stdout",
          "text": [
            "Brier Score:\n",
            "2103.482282061032\n"
          ]
        }
      ]
    },
    {
      "cell_type": "code",
      "source": [
        "#XGBoost Model\n",
        "#Better than LR, no signs of overfitting but still not the best\n",
        "#72% accuracy \n",
        "xgb = XGBClassifier(random_state=42)\n",
        "\n",
        "evaluateModel(xgb, X_train_scaled, X_test_scaled, y_train, y_test)"
      ],
      "metadata": {
        "colab": {
          "base_uri": "https://localhost:8080/",
          "height": 1000
        },
        "id": "nP145PMt_muj",
        "outputId": "ee61f6fd-b695-47a9-f78a-183704dad38d"
      },
      "execution_count": 31,
      "outputs": [
        {
          "output_type": "stream",
          "name": "stdout",
          "text": [
            "\n",
            "    METRICS FOR THE TRAINING SET:\n",
            "    ----------------------------\n",
            "    [[ 7972  3254]\n",
            " [ 2482 10301]]\n",
            "\n",
            "                  precision    recall  f1-score   support\n",
            "\n",
            "           0       0.76      0.71      0.74     11226\n",
            "           1       0.76      0.81      0.78     12783\n",
            "\n",
            "    accuracy                           0.76     24009\n",
            "   macro avg       0.76      0.76      0.76     24009\n",
            "weighted avg       0.76      0.76      0.76     24009\n",
            "\n",
            "    \n",
            "\n",
            "    METRICS FOR THE TESTING SET:\n",
            "    ----------------------------\n",
            "    [[3209 1603]\n",
            " [1267 4211]]\n",
            "\n",
            "                  precision    recall  f1-score   support\n",
            "\n",
            "           0       0.72      0.67      0.69      4812\n",
            "           1       0.72      0.77      0.75      5478\n",
            "\n",
            "    accuracy                           0.72     10290\n",
            "   macro avg       0.72      0.72      0.72     10290\n",
            "weighted avg       0.72      0.72      0.72     10290\n",
            "\n",
            "    \n",
            "\n",
            "AUC for the Model Test Set: 0.7792079297314702\n"
          ]
        },
        {
          "output_type": "display_data",
          "data": {
            "text/plain": [
              "<Figure size 720x432 with 1 Axes>"
            ],
            "image/png": "[encoded data removed]"
          },
          "metadata": {
            "needs_background": "light"
          }
        },
        {
          "output_type": "stream",
          "name": "stdout",
          "text": [
            "Brier Score:\n",
            "1943.302970242298\n"
          ]
        }
      ]
    },
    {
      "cell_type": "code",
      "execution_count": 32,
      "metadata": {
        "id": "MmyI0YrV2mxj",
        "colab": {
          "base_uri": "https://localhost:8080/"
        },
        "outputId": "887a8b01-bdc9-4bb6-94bd-28eff87deb94"
      },
      "outputs": [
        {
          "output_type": "stream",
          "name": "stdout",
          "text": [
            "Model: \"sequential\"\n",
            "_________________________________________________________________\n",
            " Layer (type)                Output Shape              Param #   \n",
            "=================================================================\n",
            " dense (Dense)               (None, 8)                 352       \n",
            "                                                                 \n",
            " dense_1 (Dense)             (None, 5)                 45        \n",
            "                                                                 \n",
            " dense_2 (Dense)             (None, 1)                 6         \n",
            "                                                                 \n",
            "=================================================================\n",
            "Total params: 403\n",
            "Trainable params: 403\n",
            "Non-trainable params: 0\n",
            "_________________________________________________________________\n"
          ]
        }
      ],
      "source": [
        "# Define the model - deep neural net, i.e., the number of input features and hidden nodes for each layer.\n",
        "# Define the model - deep neural net\n",
        "#Two hidden layers at 200 epoch has the highest accuracy \n",
        "#403 parameters\n",
        "#72% accuracy, just shy of 75%\n",
        "number_input_features = len(X_train[0])\n",
        "hidden_nodes_layer1 =  8\n",
        "hidden_nodes_layer2 = 5\n",
        "\n",
        "nn = tf.keras.models.Sequential()\n",
        "\n",
        "# First hidden layer\n",
        "nn.add(\n",
        "    tf.keras.layers.Dense(units=hidden_nodes_layer1, input_dim=number_input_features, activation=\"relu\")\n",
        ")\n",
        "\n",
        "# Second hidden layer\n",
        "nn.add(tf.keras.layers.Dense(units=hidden_nodes_layer2, activation=\"relu\"))\n",
        "\n",
        "# Output layer\n",
        "nn.add(tf.keras.layers.Dense(units=1, activation=\"sigmoid\"))\n",
        "\n",
        "# Check the structure of the model\n",
        "nn.summary()"
      ]
    },
    {
      "cell_type": "code",
      "execution_count": 33,
      "metadata": {
        "id": "o6rz9Vfw2mxj"
      },
      "outputs": [],
      "source": [
        "# Compile the model\n",
        "nn.compile(loss=\"binary_crossentropy\", optimizer=\"adam\", metrics=[\"accuracy\"])"
      ]
    },
    {
      "cell_type": "code",
      "execution_count": 34,
      "metadata": {
        "id": "Y50QsXnW2mxj",
        "colab": {
          "base_uri": "https://localhost:8080/"
        },
        "outputId": "4e5ad474-b788-4bd9-e5c0-7985f3308c54"
      },
      "outputs": [
        {
          "output_type": "stream",
          "name": "stdout",
          "text": [
            "Epoch 1/200\n",
            "751/751 [==============================] - 3s 2ms/step - loss: 0.6382 - accuracy: 0.6875\n",
            "Epoch 2/200\n",
            "751/751 [==============================] - 1s 2ms/step - loss: 0.5813 - accuracy: 0.7249\n",
            "Epoch 3/200\n",
            "751/751 [==============================] - 1s 2ms/step - loss: 0.5691 - accuracy: 0.7281\n",
            "Epoch 4/200\n",
            "751/751 [==============================] - 1s 2ms/step - loss: 0.5648 - accuracy: 0.7291\n",
            "Epoch 5/200\n",
            "751/751 [==============================] - 1s 2ms/step - loss: 0.5619 - accuracy: 0.7305\n",
            "Epoch 6/200\n",
            "751/751 [==============================] - 1s 2ms/step - loss: 0.5599 - accuracy: 0.7307\n",
            "Epoch 7/200\n",
            "751/751 [==============================] - 2s 3ms/step - loss: 0.5574 - accuracy: 0.7318\n",
            "Epoch 8/200\n",
            "751/751 [==============================] - 2s 3ms/step - loss: 0.5554 - accuracy: 0.7319\n",
            "Epoch 9/200\n",
            "751/751 [==============================] - 1s 2ms/step - loss: 0.5538 - accuracy: 0.7317\n",
            "Epoch 10/200\n",
            "751/751 [==============================] - 1s 2ms/step - loss: 0.5530 - accuracy: 0.7315\n",
            "Epoch 11/200\n",
            "751/751 [==============================] - 2s 2ms/step - loss: 0.5519 - accuracy: 0.7323\n",
            "Epoch 12/200\n",
            "751/751 [==============================] - 1s 2ms/step - loss: 0.5514 - accuracy: 0.7311\n",
            "Epoch 13/200\n",
            "751/751 [==============================] - 1s 2ms/step - loss: 0.5510 - accuracy: 0.7332\n",
            "Epoch 14/200\n",
            "751/751 [==============================] - 1s 2ms/step - loss: 0.5501 - accuracy: 0.7327\n",
            "Epoch 15/200\n",
            "751/751 [==============================] - 2s 3ms/step - loss: 0.5501 - accuracy: 0.7334\n",
            "Epoch 16/200\n",
            "751/751 [==============================] - 2s 3ms/step - loss: 0.5496 - accuracy: 0.7339\n",
            "Epoch 17/200\n",
            "751/751 [==============================] - 1s 2ms/step - loss: 0.5497 - accuracy: 0.7336\n",
            "Epoch 18/200\n",
            "751/751 [==============================] - 2s 2ms/step - loss: 0.5493 - accuracy: 0.7336\n",
            "Epoch 19/200\n",
            "751/751 [==============================] - 2s 2ms/step - loss: 0.5491 - accuracy: 0.7337\n",
            "Epoch 20/200\n",
            "751/751 [==============================] - 2s 2ms/step - loss: 0.5489 - accuracy: 0.7337\n",
            "Epoch 21/200\n",
            "751/751 [==============================] - 2s 2ms/step - loss: 0.5484 - accuracy: 0.7335\n",
            "Epoch 22/200\n",
            "751/751 [==============================] - 1s 2ms/step - loss: 0.5482 - accuracy: 0.7352\n",
            "Epoch 23/200\n",
            "751/751 [==============================] - 2s 2ms/step - loss: 0.5481 - accuracy: 0.7339\n",
            "Epoch 24/200\n",
            "751/751 [==============================] - 2s 3ms/step - loss: 0.5480 - accuracy: 0.7351\n",
            "Epoch 25/200\n",
            "751/751 [==============================] - 1s 2ms/step - loss: 0.5477 - accuracy: 0.7346\n",
            "Epoch 26/200\n",
            "751/751 [==============================] - 1s 2ms/step - loss: 0.5476 - accuracy: 0.7343\n",
            "Epoch 27/200\n",
            "751/751 [==============================] - 2s 2ms/step - loss: 0.5473 - accuracy: 0.7350\n",
            "Epoch 28/200\n",
            "751/751 [==============================] - 2s 2ms/step - loss: 0.5471 - accuracy: 0.7343\n",
            "Epoch 29/200\n",
            "751/751 [==============================] - 1s 2ms/step - loss: 0.5473 - accuracy: 0.7348\n",
            "Epoch 30/200\n",
            "751/751 [==============================] - 2s 2ms/step - loss: 0.5468 - accuracy: 0.7343\n",
            "Epoch 31/200\n",
            "751/751 [==============================] - 2s 2ms/step - loss: 0.5470 - accuracy: 0.7351\n",
            "Epoch 32/200\n",
            "751/751 [==============================] - 2s 3ms/step - loss: 0.5469 - accuracy: 0.7342\n",
            "Epoch 33/200\n",
            "751/751 [==============================] - 1s 2ms/step - loss: 0.5469 - accuracy: 0.7345\n",
            "Epoch 34/200\n",
            "751/751 [==============================] - 2s 2ms/step - loss: 0.5464 - accuracy: 0.7345\n",
            "Epoch 35/200\n",
            "751/751 [==============================] - 2s 2ms/step - loss: 0.5467 - accuracy: 0.7341\n",
            "Epoch 36/200\n",
            "751/751 [==============================] - 1s 2ms/step - loss: 0.5465 - accuracy: 0.7349\n",
            "Epoch 37/200\n",
            "751/751 [==============================] - 1s 2ms/step - loss: 0.5464 - accuracy: 0.7335\n",
            "Epoch 38/200\n",
            "751/751 [==============================] - 2s 2ms/step - loss: 0.5463 - accuracy: 0.7353\n",
            "Epoch 39/200\n",
            "751/751 [==============================] - 2s 2ms/step - loss: 0.5464 - accuracy: 0.7342\n",
            "Epoch 40/200\n",
            "751/751 [==============================] - 3s 4ms/step - loss: 0.5463 - accuracy: 0.7344\n",
            "Epoch 41/200\n",
            "751/751 [==============================] - 2s 3ms/step - loss: 0.5463 - accuracy: 0.7347\n",
            "Epoch 42/200\n",
            "751/751 [==============================] - 1s 2ms/step - loss: 0.5459 - accuracy: 0.7343\n",
            "Epoch 43/200\n",
            "751/751 [==============================] - 2s 2ms/step - loss: 0.5459 - accuracy: 0.7345\n",
            "Epoch 44/200\n",
            "751/751 [==============================] - 1s 2ms/step - loss: 0.5459 - accuracy: 0.7341\n",
            "Epoch 45/200\n",
            "751/751 [==============================] - 2s 2ms/step - loss: 0.5461 - accuracy: 0.7350\n",
            "Epoch 46/200\n",
            "751/751 [==============================] - 2s 2ms/step - loss: 0.5457 - accuracy: 0.7343\n",
            "Epoch 47/200\n",
            "751/751 [==============================] - 2s 3ms/step - loss: 0.5457 - accuracy: 0.7353\n",
            "Epoch 48/200\n",
            "751/751 [==============================] - 2s 2ms/step - loss: 0.5458 - accuracy: 0.7344\n",
            "Epoch 49/200\n",
            "751/751 [==============================] - 2s 2ms/step - loss: 0.5458 - accuracy: 0.7346\n",
            "Epoch 50/200\n",
            "751/751 [==============================] - 2s 2ms/step - loss: 0.5458 - accuracy: 0.7348\n",
            "Epoch 51/200\n",
            "751/751 [==============================] - 2s 2ms/step - loss: 0.5457 - accuracy: 0.7345\n",
            "Epoch 52/200\n",
            "751/751 [==============================] - 2s 2ms/step - loss: 0.5454 - accuracy: 0.7350\n",
            "Epoch 53/200\n",
            "751/751 [==============================] - 2s 2ms/step - loss: 0.5455 - accuracy: 0.7354\n",
            "Epoch 54/200\n",
            "751/751 [==============================] - 2s 3ms/step - loss: 0.5457 - accuracy: 0.7353\n",
            "Epoch 55/200\n",
            "751/751 [==============================] - 2s 2ms/step - loss: 0.5458 - accuracy: 0.7341\n",
            "Epoch 56/200\n",
            "751/751 [==============================] - 2s 2ms/step - loss: 0.5457 - accuracy: 0.7349\n",
            "Epoch 57/200\n",
            "751/751 [==============================] - 2s 2ms/step - loss: 0.5456 - accuracy: 0.7350\n",
            "Epoch 58/200\n",
            "751/751 [==============================] - 2s 2ms/step - loss: 0.5458 - accuracy: 0.7343\n",
            "Epoch 59/200\n",
            "751/751 [==============================] - 2s 2ms/step - loss: 0.5455 - accuracy: 0.7347\n",
            "Epoch 60/200\n",
            "751/751 [==============================] - 2s 2ms/step - loss: 0.5454 - accuracy: 0.7355\n",
            "Epoch 61/200\n",
            "751/751 [==============================] - 2s 2ms/step - loss: 0.5453 - accuracy: 0.7357\n",
            "Epoch 62/200\n",
            "751/751 [==============================] - 3s 4ms/step - loss: 0.5452 - accuracy: 0.7353\n",
            "Epoch 63/200\n",
            "751/751 [==============================] - 3s 4ms/step - loss: 0.5453 - accuracy: 0.7343\n",
            "Epoch 64/200\n",
            "751/751 [==============================] - 2s 2ms/step - loss: 0.5452 - accuracy: 0.7362\n",
            "Epoch 65/200\n",
            "751/751 [==============================] - 1s 2ms/step - loss: 0.5456 - accuracy: 0.7341\n",
            "Epoch 66/200\n",
            "751/751 [==============================] - 2s 2ms/step - loss: 0.5452 - accuracy: 0.7350\n",
            "Epoch 67/200\n",
            "751/751 [==============================] - 2s 2ms/step - loss: 0.5454 - accuracy: 0.7342\n",
            "Epoch 68/200\n",
            "751/751 [==============================] - 1s 2ms/step - loss: 0.5453 - accuracy: 0.7339\n",
            "Epoch 69/200\n",
            "751/751 [==============================] - 1s 2ms/step - loss: 0.5452 - accuracy: 0.7352\n",
            "Epoch 70/200\n",
            "751/751 [==============================] - 2s 3ms/step - loss: 0.5453 - accuracy: 0.7346\n",
            "Epoch 71/200\n",
            "751/751 [==============================] - 2s 2ms/step - loss: 0.5453 - accuracy: 0.7344\n",
            "Epoch 72/200\n",
            "751/751 [==============================] - 1s 2ms/step - loss: 0.5451 - accuracy: 0.7352\n",
            "Epoch 73/200\n",
            "751/751 [==============================] - 2s 2ms/step - loss: 0.5452 - accuracy: 0.7338\n",
            "Epoch 74/200\n",
            "751/751 [==============================] - 2s 2ms/step - loss: 0.5451 - accuracy: 0.7344\n",
            "Epoch 75/200\n",
            "751/751 [==============================] - 1s 2ms/step - loss: 0.5452 - accuracy: 0.7348\n",
            "Epoch 76/200\n",
            "751/751 [==============================] - 1s 2ms/step - loss: 0.5450 - accuracy: 0.7345\n",
            "Epoch 77/200\n",
            "751/751 [==============================] - 2s 2ms/step - loss: 0.5451 - accuracy: 0.7349\n",
            "Epoch 78/200\n",
            "751/751 [==============================] - 2s 3ms/step - loss: 0.5452 - accuracy: 0.7349\n",
            "Epoch 79/200\n",
            "751/751 [==============================] - 4s 5ms/step - loss: 0.5449 - accuracy: 0.7349\n",
            "Epoch 80/200\n",
            "751/751 [==============================] - 3s 4ms/step - loss: 0.5449 - accuracy: 0.7351\n",
            "Epoch 81/200\n",
            "751/751 [==============================] - 1s 2ms/step - loss: 0.5452 - accuracy: 0.7347\n",
            "Epoch 82/200\n",
            "751/751 [==============================] - 1s 2ms/step - loss: 0.5451 - accuracy: 0.7337\n",
            "Epoch 83/200\n",
            "751/751 [==============================] - 2s 3ms/step - loss: 0.5450 - accuracy: 0.7351\n",
            "Epoch 84/200\n",
            "751/751 [==============================] - 2s 3ms/step - loss: 0.5449 - accuracy: 0.7355\n",
            "Epoch 85/200\n",
            "751/751 [==============================] - 2s 2ms/step - loss: 0.5448 - accuracy: 0.7348\n",
            "Epoch 86/200\n",
            "751/751 [==============================] - 1s 2ms/step - loss: 0.5447 - accuracy: 0.7350\n",
            "Epoch 87/200\n",
            "751/751 [==============================] - 2s 2ms/step - loss: 0.5452 - accuracy: 0.7351\n",
            "Epoch 88/200\n",
            "751/751 [==============================] - 2s 2ms/step - loss: 0.5449 - accuracy: 0.7354\n",
            "Epoch 89/200\n",
            "751/751 [==============================] - 2s 2ms/step - loss: 0.5447 - accuracy: 0.7358\n",
            "Epoch 90/200\n",
            "751/751 [==============================] - 2s 2ms/step - loss: 0.5447 - accuracy: 0.7360\n",
            "Epoch 91/200\n",
            "751/751 [==============================] - 2s 3ms/step - loss: 0.5447 - accuracy: 0.7357\n",
            "Epoch 92/200\n",
            "751/751 [==============================] - 2s 3ms/step - loss: 0.5446 - accuracy: 0.7352\n",
            "Epoch 93/200\n",
            "751/751 [==============================] - 2s 2ms/step - loss: 0.5449 - accuracy: 0.7350\n",
            "Epoch 94/200\n",
            "751/751 [==============================] - 1s 2ms/step - loss: 0.5447 - accuracy: 0.7350\n",
            "Epoch 95/200\n",
            "751/751 [==============================] - 2s 2ms/step - loss: 0.5449 - accuracy: 0.7348\n",
            "Epoch 96/200\n",
            "751/751 [==============================] - 2s 2ms/step - loss: 0.5447 - accuracy: 0.7353\n",
            "Epoch 97/200\n",
            "751/751 [==============================] - 2s 2ms/step - loss: 0.5447 - accuracy: 0.7344\n",
            "Epoch 98/200\n",
            "751/751 [==============================] - 2s 2ms/step - loss: 0.5444 - accuracy: 0.7340\n",
            "Epoch 99/200\n",
            "751/751 [==============================] - 3s 3ms/step - loss: 0.5445 - accuracy: 0.7347\n",
            "Epoch 100/200\n",
            "751/751 [==============================] - 2s 2ms/step - loss: 0.5446 - accuracy: 0.7350\n",
            "Epoch 101/200\n",
            "751/751 [==============================] - 2s 2ms/step - loss: 0.5445 - accuracy: 0.7338\n",
            "Epoch 102/200\n",
            "751/751 [==============================] - 2s 2ms/step - loss: 0.5448 - accuracy: 0.7338\n",
            "Epoch 103/200\n",
            "751/751 [==============================] - 1s 2ms/step - loss: 0.5445 - accuracy: 0.7350\n",
            "Epoch 104/200\n",
            "751/751 [==============================] - 2s 2ms/step - loss: 0.5446 - accuracy: 0.7355\n",
            "Epoch 105/200\n",
            "751/751 [==============================] - 1s 2ms/step - loss: 0.5445 - accuracy: 0.7343\n",
            "Epoch 106/200\n",
            "751/751 [==============================] - 2s 3ms/step - loss: 0.5446 - accuracy: 0.7350\n",
            "Epoch 107/200\n",
            "751/751 [==============================] - 2s 3ms/step - loss: 0.5446 - accuracy: 0.7348\n",
            "Epoch 108/200\n",
            "751/751 [==============================] - 2s 2ms/step - loss: 0.5445 - accuracy: 0.7353\n",
            "Epoch 109/200\n",
            "751/751 [==============================] - 2s 2ms/step - loss: 0.5444 - accuracy: 0.7359\n",
            "Epoch 110/200\n",
            "751/751 [==============================] - 2s 2ms/step - loss: 0.5443 - accuracy: 0.7347\n",
            "Epoch 111/200\n",
            "751/751 [==============================] - 2s 2ms/step - loss: 0.5443 - accuracy: 0.7355\n",
            "Epoch 112/200\n",
            "751/751 [==============================] - 1s 2ms/step - loss: 0.5446 - accuracy: 0.7363\n",
            "Epoch 113/200\n",
            "751/751 [==============================] - 1s 2ms/step - loss: 0.5443 - accuracy: 0.7349\n",
            "Epoch 114/200\n",
            "751/751 [==============================] - 2s 3ms/step - loss: 0.5445 - accuracy: 0.7340\n",
            "Epoch 115/200\n",
            "751/751 [==============================] - 2s 3ms/step - loss: 0.5440 - accuracy: 0.7363\n",
            "Epoch 116/200\n",
            "751/751 [==============================] - 1s 2ms/step - loss: 0.5445 - accuracy: 0.7349\n",
            "Epoch 117/200\n",
            "751/751 [==============================] - 2s 2ms/step - loss: 0.5444 - accuracy: 0.7351\n",
            "Epoch 118/200\n",
            "751/751 [==============================] - 2s 2ms/step - loss: 0.5442 - accuracy: 0.7357\n",
            "Epoch 119/200\n",
            "751/751 [==============================] - 1s 2ms/step - loss: 0.5441 - accuracy: 0.7366\n",
            "Epoch 120/200\n",
            "751/751 [==============================] - 2s 2ms/step - loss: 0.5443 - accuracy: 0.7352\n",
            "Epoch 121/200\n",
            "751/751 [==============================] - 2s 2ms/step - loss: 0.5442 - accuracy: 0.7347\n",
            "Epoch 122/200\n",
            "751/751 [==============================] - 2s 3ms/step - loss: 0.5441 - accuracy: 0.7356\n",
            "Epoch 123/200\n",
            "751/751 [==============================] - 2s 2ms/step - loss: 0.5443 - accuracy: 0.7357\n",
            "Epoch 124/200\n",
            "751/751 [==============================] - 2s 2ms/step - loss: 0.5445 - accuracy: 0.7355\n",
            "Epoch 125/200\n",
            "751/751 [==============================] - 2s 2ms/step - loss: 0.5442 - accuracy: 0.7353\n",
            "Epoch 126/200\n",
            "751/751 [==============================] - 2s 2ms/step - loss: 0.5440 - accuracy: 0.7354\n",
            "Epoch 127/200\n",
            "751/751 [==============================] - 2s 2ms/step - loss: 0.5441 - accuracy: 0.7352\n",
            "Epoch 128/200\n",
            "751/751 [==============================] - 1s 2ms/step - loss: 0.5441 - accuracy: 0.7360\n",
            "Epoch 129/200\n",
            "751/751 [==============================] - 2s 2ms/step - loss: 0.5442 - accuracy: 0.7358\n",
            "Epoch 130/200\n",
            "751/751 [==============================] - 3s 3ms/step - loss: 0.5441 - accuracy: 0.7358\n",
            "Epoch 131/200\n",
            "751/751 [==============================] - 2s 2ms/step - loss: 0.5438 - accuracy: 0.7346\n",
            "Epoch 132/200\n",
            "751/751 [==============================] - 2s 2ms/step - loss: 0.5444 - accuracy: 0.7357\n",
            "Epoch 133/200\n",
            "751/751 [==============================] - 2s 2ms/step - loss: 0.5440 - accuracy: 0.7352\n",
            "Epoch 134/200\n",
            "751/751 [==============================] - 2s 2ms/step - loss: 0.5440 - accuracy: 0.7349\n",
            "Epoch 135/200\n",
            "751/751 [==============================] - 2s 2ms/step - loss: 0.5439 - accuracy: 0.7361\n",
            "Epoch 136/200\n",
            "751/751 [==============================] - 2s 2ms/step - loss: 0.5438 - accuracy: 0.7353\n",
            "Epoch 137/200\n",
            "751/751 [==============================] - 2s 3ms/step - loss: 0.5441 - accuracy: 0.7353\n",
            "Epoch 138/200\n",
            "751/751 [==============================] - 2s 3ms/step - loss: 0.5438 - accuracy: 0.7362\n",
            "Epoch 139/200\n",
            "751/751 [==============================] - 1s 2ms/step - loss: 0.5439 - accuracy: 0.7354\n",
            "Epoch 140/200\n",
            "751/751 [==============================] - 2s 2ms/step - loss: 0.5440 - accuracy: 0.7347\n",
            "Epoch 141/200\n",
            "751/751 [==============================] - 2s 2ms/step - loss: 0.5440 - accuracy: 0.7355\n",
            "Epoch 142/200\n",
            "751/751 [==============================] - 2s 2ms/step - loss: 0.5438 - accuracy: 0.7359\n",
            "Epoch 143/200\n",
            "751/751 [==============================] - 2s 2ms/step - loss: 0.5441 - accuracy: 0.7347\n",
            "Epoch 144/200\n",
            "751/751 [==============================] - 2s 2ms/step - loss: 0.5439 - accuracy: 0.7346\n",
            "Epoch 145/200\n",
            "751/751 [==============================] - 2s 3ms/step - loss: 0.5439 - accuracy: 0.7352\n",
            "Epoch 146/200\n",
            "751/751 [==============================] - 2s 3ms/step - loss: 0.5436 - accuracy: 0.7352\n",
            "Epoch 147/200\n",
            "751/751 [==============================] - 1s 2ms/step - loss: 0.5438 - accuracy: 0.7361\n",
            "Epoch 148/200\n",
            "751/751 [==============================] - 2s 2ms/step - loss: 0.5437 - accuracy: 0.7352\n",
            "Epoch 149/200\n",
            "751/751 [==============================] - 2s 2ms/step - loss: 0.5438 - accuracy: 0.7346\n",
            "Epoch 150/200\n",
            "751/751 [==============================] - 2s 2ms/step - loss: 0.5436 - accuracy: 0.7353\n",
            "Epoch 151/200\n",
            "751/751 [==============================] - 1s 2ms/step - loss: 0.5437 - accuracy: 0.7362\n",
            "Epoch 152/200\n",
            "751/751 [==============================] - 2s 2ms/step - loss: 0.5436 - accuracy: 0.7343\n",
            "Epoch 153/200\n",
            "751/751 [==============================] - 2s 3ms/step - loss: 0.5434 - accuracy: 0.7356\n",
            "Epoch 154/200\n",
            "751/751 [==============================] - 2s 3ms/step - loss: 0.5438 - accuracy: 0.7349\n",
            "Epoch 155/200\n",
            "751/751 [==============================] - 1s 2ms/step - loss: 0.5436 - accuracy: 0.7347\n",
            "Epoch 156/200\n",
            "751/751 [==============================] - 2s 2ms/step - loss: 0.5434 - accuracy: 0.7360\n",
            "Epoch 157/200\n",
            "751/751 [==============================] - 2s 2ms/step - loss: 0.5435 - accuracy: 0.7349\n",
            "Epoch 158/200\n",
            "751/751 [==============================] - 1s 2ms/step - loss: 0.5435 - accuracy: 0.7348\n",
            "Epoch 159/200\n",
            "751/751 [==============================] - 2s 2ms/step - loss: 0.5435 - accuracy: 0.7350\n",
            "Epoch 160/200\n",
            "751/751 [==============================] - 2s 2ms/step - loss: 0.5435 - accuracy: 0.7361\n",
            "Epoch 161/200\n",
            "751/751 [==============================] - 2s 3ms/step - loss: 0.5437 - accuracy: 0.7351\n",
            "Epoch 162/200\n",
            "751/751 [==============================] - 2s 3ms/step - loss: 0.5435 - accuracy: 0.7356\n",
            "Epoch 163/200\n",
            "751/751 [==============================] - 2s 2ms/step - loss: 0.5435 - accuracy: 0.7355\n",
            "Epoch 164/200\n",
            "751/751 [==============================] - 1s 2ms/step - loss: 0.5436 - accuracy: 0.7353\n",
            "Epoch 165/200\n",
            "751/751 [==============================] - 1s 2ms/step - loss: 0.5436 - accuracy: 0.7356\n",
            "Epoch 166/200\n",
            "751/751 [==============================] - 1s 2ms/step - loss: 0.5432 - accuracy: 0.7339\n",
            "Epoch 167/200\n",
            "751/751 [==============================] - 1s 2ms/step - loss: 0.5434 - accuracy: 0.7348\n",
            "Epoch 168/200\n",
            "751/751 [==============================] - 2s 2ms/step - loss: 0.5435 - accuracy: 0.7351\n",
            "Epoch 169/200\n",
            "751/751 [==============================] - 2s 3ms/step - loss: 0.5434 - accuracy: 0.7352\n",
            "Epoch 170/200\n",
            "751/751 [==============================] - 2s 3ms/step - loss: 0.5436 - accuracy: 0.7352\n",
            "Epoch 171/200\n",
            "751/751 [==============================] - 2s 3ms/step - loss: 0.5433 - accuracy: 0.7362\n",
            "Epoch 172/200\n",
            "751/751 [==============================] - 2s 3ms/step - loss: 0.5432 - accuracy: 0.7353\n",
            "Epoch 173/200\n",
            "751/751 [==============================] - 2s 2ms/step - loss: 0.5433 - accuracy: 0.7346\n",
            "Epoch 174/200\n",
            "751/751 [==============================] - 2s 2ms/step - loss: 0.5431 - accuracy: 0.7347\n",
            "Epoch 175/200\n",
            "751/751 [==============================] - 2s 2ms/step - loss: 0.5430 - accuracy: 0.7368\n",
            "Epoch 176/200\n",
            "751/751 [==============================] - 2s 3ms/step - loss: 0.5433 - accuracy: 0.7354\n",
            "Epoch 177/200\n",
            "751/751 [==============================] - 2s 3ms/step - loss: 0.5430 - accuracy: 0.7351\n",
            "Epoch 178/200\n",
            "751/751 [==============================] - 2s 2ms/step - loss: 0.5433 - accuracy: 0.7355\n",
            "Epoch 179/200\n",
            "751/751 [==============================] - 1s 2ms/step - loss: 0.5432 - accuracy: 0.7364\n",
            "Epoch 180/200\n",
            "751/751 [==============================] - 2s 2ms/step - loss: 0.5430 - accuracy: 0.7354\n",
            "Epoch 181/200\n",
            "751/751 [==============================] - 2s 2ms/step - loss: 0.5431 - accuracy: 0.7358\n",
            "Epoch 182/200\n",
            "751/751 [==============================] - 1s 2ms/step - loss: 0.5433 - accuracy: 0.7361\n",
            "Epoch 183/200\n",
            "751/751 [==============================] - 2s 2ms/step - loss: 0.5429 - accuracy: 0.7357\n",
            "Epoch 184/200\n",
            "751/751 [==============================] - 2s 3ms/step - loss: 0.5431 - accuracy: 0.7358\n",
            "Epoch 185/200\n",
            "751/751 [==============================] - 2s 2ms/step - loss: 0.5428 - accuracy: 0.7360\n",
            "Epoch 186/200\n",
            "751/751 [==============================] - 2s 2ms/step - loss: 0.5429 - accuracy: 0.7349\n",
            "Epoch 187/200\n",
            "751/751 [==============================] - 2s 2ms/step - loss: 0.5431 - accuracy: 0.7359\n",
            "Epoch 188/200\n",
            "751/751 [==============================] - 1s 2ms/step - loss: 0.5431 - accuracy: 0.7357\n",
            "Epoch 189/200\n",
            "751/751 [==============================] - 2s 2ms/step - loss: 0.5428 - accuracy: 0.7351\n",
            "Epoch 190/200\n",
            "751/751 [==============================] - 1s 2ms/step - loss: 0.5427 - accuracy: 0.7362\n",
            "Epoch 191/200\n",
            "751/751 [==============================] - 2s 2ms/step - loss: 0.5427 - accuracy: 0.7361\n",
            "Epoch 192/200\n",
            "751/751 [==============================] - 2s 3ms/step - loss: 0.5430 - accuracy: 0.7356\n",
            "Epoch 193/200\n",
            "751/751 [==============================] - 2s 2ms/step - loss: 0.5428 - accuracy: 0.7353\n",
            "Epoch 194/200\n",
            "751/751 [==============================] - 1s 2ms/step - loss: 0.5429 - accuracy: 0.7372\n",
            "Epoch 195/200\n",
            "751/751 [==============================] - 2s 2ms/step - loss: 0.5431 - accuracy: 0.7363\n",
            "Epoch 196/200\n",
            "751/751 [==============================] - 2s 2ms/step - loss: 0.5428 - accuracy: 0.7362\n",
            "Epoch 197/200\n",
            "751/751 [==============================] - 2s 2ms/step - loss: 0.5427 - accuracy: 0.7357\n",
            "Epoch 198/200\n",
            "751/751 [==============================] - 1s 2ms/step - loss: 0.5424 - accuracy: 0.7357\n",
            "Epoch 199/200\n",
            "751/751 [==============================] - 2s 2ms/step - loss: 0.5429 - accuracy: 0.7356\n",
            "Epoch 200/200\n",
            "751/751 [==============================] - 2s 3ms/step - loss: 0.5427 - accuracy: 0.7371\n"
          ]
        }
      ],
      "source": [
        "# Train the model\n",
        "fit_model = nn.fit(X_train_scaled,y_train,epochs=200)"
      ]
    },
    {
      "cell_type": "code",
      "execution_count": 35,
      "metadata": {
        "id": "qKtM6e9c2mxk",
        "colab": {
          "base_uri": "https://localhost:8080/"
        },
        "outputId": "2f64cb36-77bf-41e6-e55b-6f5dbbdb8bde"
      },
      "outputs": [
        {
          "output_type": "stream",
          "name": "stdout",
          "text": [
            "322/322 - 1s - loss: 0.5561 - accuracy: 0.7224 - 581ms/epoch - 2ms/step\n",
            "Loss: 0.5560750961303711, Accuracy: 0.722449004650116\n"
          ]
        }
      ],
      "source": [
        "# Evaluate the model using the test data\n",
        "model_loss, model_accuracy = nn.evaluate(X_test_scaled,y_test,verbose=2)\n",
        "print(f\"Loss: {model_loss}, Accuracy: {model_accuracy}\")"
      ]
    },
    {
      "cell_type": "code",
      "source": [
        "#NNetwork appears to be better than the XGBoost model\n",
        "test_proba = [x[0] for x in nn.predict(X_test_scaled)]\n",
        "test_preds = [round(x) for x in test_proba]\n",
        "\n",
        "output_test = f\"\"\"\n",
        "  METRICS FOR THE TESTING SET:\n",
        "  ----------------------------\n",
        "  {confusion_matrix(y_test, test_preds)}\n",
        "\n",
        "  {classification_report(y_test, test_preds)}\n",
        "  \"\"\"\n",
        "print(output_test)\n",
        "print()\n",
        "\n",
        "#################################################\n",
        "\n",
        "fpr_knn, tpr_knn, thresholds_knn = roc_curve(y_test, test_proba)\n",
        "\n",
        "roc_auc_knn = auc(fpr_knn, tpr_knn)\n",
        "print(f\"AUC for the Model Test Set: {roc_auc_knn}\")\n",
        "\n",
        "# make plot\n",
        "plt.figure(figsize=(10,6))\n",
        "plt.plot(fpr_knn, tpr_knn, color='darkorange')\n",
        "plt.plot([0, 1], [0, 1], color='navy', linestyle='--')\n",
        "plt.xlim([0.0, 1.0])\n",
        "plt.ylim([0.0, 1.05])\n",
        "plt.xlabel('False Positive Rate')\n",
        "plt.ylabel('True Positive Rate')\n",
        "plt.title('ROC Curve')\n",
        "plt.show()\n"
      ],
      "metadata": {
        "colab": {
          "base_uri": "https://localhost:8080/",
          "height": 734
        },
        "id": "UW2wft79DIe7",
        "outputId": "598286f2-b3f2-4281-ddc0-4073f2d60711"
      },
      "execution_count": 36,
      "outputs": [
        {
          "output_type": "stream",
          "name": "stdout",
          "text": [
            "322/322 [==============================] - 1s 2ms/step\n",
            "\n",
            "  METRICS FOR THE TESTING SET:\n",
            "  ----------------------------\n",
            "  [[3271 1541]\n",
            " [1315 4163]]\n",
            "\n",
            "                precision    recall  f1-score   support\n",
            "\n",
            "           0       0.71      0.68      0.70      4812\n",
            "           1       0.73      0.76      0.74      5478\n",
            "\n",
            "    accuracy                           0.72     10290\n",
            "   macro avg       0.72      0.72      0.72     10290\n",
            "weighted avg       0.72      0.72      0.72     10290\n",
            "\n",
            "  \n",
            "\n",
            "AUC for the Model Test Set: 0.7822464003979344\n"
          ]
        },
        {
          "output_type": "display_data",
          "data": {
            "text/plain": [
              "<Figure size 720x432 with 1 Axes>"
            ],
            "image/png": "[encoded data removed]"
          },
          "metadata": {
            "needs_background": "light"
          }
        }
      ]
    },
    {
      "cell_type": "code",
      "execution_count": 37,
      "metadata": {
        "id": "pyA1P63Z2mxk"
      },
      "outputs": [],
      "source": [
        "# Export our model to HDF5 file\n",
        "nn.save(\"test_nn_bh.h5\")"
      ]
    },
    {
      "cell_type": "code",
      "source": [
        "# Define the 2nd model\n",
        "# Define the model - deep neural net\n",
        "#Three hidden layers\n",
        "#Way more parameters\n",
        "number_input_features = len(X_train[0])\n",
        "hidden_nodes_layer1 =  80\n",
        "hidden_nodes_layer2 = 30\n",
        "hidden_nodes_layer3 = 10\n",
        "\n",
        "nn1 = tf.keras.models.Sequential()\n",
        "\n",
        "# First hidden layer\n",
        "nn1.add(\n",
        "    tf.keras.layers.Dense(units=hidden_nodes_layer1, input_dim=number_input_features, activation=\"relu\")\n",
        ")\n",
        "\n",
        "# Second hidden layer\n",
        "nn1.add(tf.keras.layers.Dense(units=hidden_nodes_layer2, activation=\"relu\"))\n",
        "\n",
        "# Third hidden layer\n",
        "nn1.add(tf.keras.layers.Dense(units=hidden_nodes_layer3, activation=\"relu\"))\n",
        "\n",
        "# Output layer\n",
        "nn1.add(tf.keras.layers.Dense(units=1, activation=\"sigmoid\"))\n",
        "\n",
        "# Check the structure of the model\n",
        "nn1.summary()"
      ],
      "metadata": {
        "colab": {
          "base_uri": "https://localhost:8080/"
        },
        "id": "tbwImQc4Dxov",
        "outputId": "a1c85a20-7fa1-495d-8a05-64b941fbecaa"
      },
      "execution_count": 44,
      "outputs": [
        {
          "output_type": "stream",
          "name": "stdout",
          "text": [
            "Model: \"sequential_2\"\n",
            "_________________________________________________________________\n",
            " Layer (type)                Output Shape              Param #   \n",
            "=================================================================\n",
            " dense_7 (Dense)             (None, 80)                3520      \n",
            "                                                                 \n",
            " dense_8 (Dense)             (None, 30)                2430      \n",
            "                                                                 \n",
            " dense_9 (Dense)             (None, 10)                310       \n",
            "                                                                 \n",
            " dense_10 (Dense)            (None, 1)                 11        \n",
            "                                                                 \n",
            "=================================================================\n",
            "Total params: 6,271\n",
            "Trainable params: 6,271\n",
            "Non-trainable params: 0\n",
            "_________________________________________________________________\n"
          ]
        }
      ]
    },
    {
      "cell_type": "code",
      "source": [
        "# Compile the model\n",
        "nn1.compile(loss=\"binary_crossentropy\", optimizer=\"adam\", metrics=[\"accuracy\"])"
      ],
      "metadata": {
        "id": "Eit91wvDDxwf"
      },
      "execution_count": 45,
      "outputs": []
    },
    {
      "cell_type": "code",
      "source": [
        "# Train the model\n",
        "fit_model = nn1.fit(X_train_scaled,y_train,epochs=50)"
      ],
      "metadata": {
        "colab": {
          "base_uri": "https://localhost:8080/"
        },
        "id": "1JQ4elUiEXJ7",
        "outputId": "b0bd37e5-4e5d-4a3f-86ef-04af8154b0a7"
      },
      "execution_count": 47,
      "outputs": [
        {
          "output_type": "stream",
          "name": "stdout",
          "text": [
            "Epoch 1/50\n",
            "751/751 [==============================] - 4s 5ms/step - loss: 0.5446 - accuracy: 0.7373\n",
            "Epoch 2/50\n",
            "751/751 [==============================] - 2s 2ms/step - loss: 0.5437 - accuracy: 0.7367\n",
            "Epoch 3/50\n",
            "751/751 [==============================] - 2s 3ms/step - loss: 0.5435 - accuracy: 0.7374\n",
            "Epoch 4/50\n",
            "751/751 [==============================] - 2s 3ms/step - loss: 0.5429 - accuracy: 0.7377\n",
            "Epoch 5/50\n",
            "751/751 [==============================] - 2s 2ms/step - loss: 0.5429 - accuracy: 0.7376\n",
            "Epoch 6/50\n",
            "751/751 [==============================] - 2s 2ms/step - loss: 0.5422 - accuracy: 0.7379\n",
            "Epoch 7/50\n",
            "751/751 [==============================] - 2s 2ms/step - loss: 0.5422 - accuracy: 0.7386\n",
            "Epoch 8/50\n",
            "751/751 [==============================] - 2s 2ms/step - loss: 0.5421 - accuracy: 0.7381\n",
            "Epoch 9/50\n",
            "751/751 [==============================] - 2s 2ms/step - loss: 0.5415 - accuracy: 0.7383\n",
            "Epoch 10/50\n",
            "751/751 [==============================] - 2s 3ms/step - loss: 0.5418 - accuracy: 0.7387\n",
            "Epoch 11/50\n",
            "751/751 [==============================] - 2s 2ms/step - loss: 0.5415 - accuracy: 0.7377\n",
            "Epoch 12/50\n",
            "751/751 [==============================] - 2s 2ms/step - loss: 0.5411 - accuracy: 0.7388\n",
            "Epoch 13/50\n",
            "751/751 [==============================] - 2s 2ms/step - loss: 0.5405 - accuracy: 0.7378\n",
            "Epoch 14/50\n",
            "751/751 [==============================] - 2s 2ms/step - loss: 0.5404 - accuracy: 0.7396\n",
            "Epoch 15/50\n",
            "751/751 [==============================] - 2s 2ms/step - loss: 0.5403 - accuracy: 0.7389\n",
            "Epoch 16/50\n",
            "751/751 [==============================] - 2s 2ms/step - loss: 0.5404 - accuracy: 0.7388\n",
            "Epoch 17/50\n",
            "751/751 [==============================] - 2s 3ms/step - loss: 0.5402 - accuracy: 0.7383\n",
            "Epoch 18/50\n",
            "751/751 [==============================] - 2s 3ms/step - loss: 0.5396 - accuracy: 0.7403\n",
            "Epoch 19/50\n",
            "751/751 [==============================] - 2s 2ms/step - loss: 0.5396 - accuracy: 0.7384\n",
            "Epoch 20/50\n",
            "751/751 [==============================] - 2s 2ms/step - loss: 0.5396 - accuracy: 0.7385\n",
            "Epoch 21/50\n",
            "751/751 [==============================] - 2s 2ms/step - loss: 0.5393 - accuracy: 0.7392\n",
            "Epoch 22/50\n",
            "751/751 [==============================] - 2s 2ms/step - loss: 0.5389 - accuracy: 0.7401\n",
            "Epoch 23/50\n",
            "751/751 [==============================] - 2s 2ms/step - loss: 0.5392 - accuracy: 0.7393\n",
            "Epoch 24/50\n",
            "751/751 [==============================] - 3s 3ms/step - loss: 0.5393 - accuracy: 0.7395\n",
            "Epoch 25/50\n",
            "751/751 [==============================] - 2s 3ms/step - loss: 0.5391 - accuracy: 0.7398\n",
            "Epoch 26/50\n",
            "751/751 [==============================] - 2s 2ms/step - loss: 0.5389 - accuracy: 0.7402\n",
            "Epoch 27/50\n",
            "751/751 [==============================] - 2s 2ms/step - loss: 0.5381 - accuracy: 0.7404\n",
            "Epoch 28/50\n",
            "751/751 [==============================] - 2s 2ms/step - loss: 0.5383 - accuracy: 0.7395\n",
            "Epoch 29/50\n",
            "751/751 [==============================] - 2s 2ms/step - loss: 0.5382 - accuracy: 0.7397\n",
            "Epoch 30/50\n",
            "751/751 [==============================] - 2s 2ms/step - loss: 0.5382 - accuracy: 0.7403\n",
            "Epoch 31/50\n",
            "751/751 [==============================] - 3s 4ms/step - loss: 0.5379 - accuracy: 0.7403\n",
            "Epoch 32/50\n",
            "751/751 [==============================] - 2s 3ms/step - loss: 0.5380 - accuracy: 0.7404\n",
            "Epoch 33/50\n",
            "751/751 [==============================] - 2s 2ms/step - loss: 0.5375 - accuracy: 0.7404\n",
            "Epoch 34/50\n",
            "751/751 [==============================] - 2s 2ms/step - loss: 0.5377 - accuracy: 0.7403\n",
            "Epoch 35/50\n",
            "751/751 [==============================] - 2s 2ms/step - loss: 0.5380 - accuracy: 0.7405\n",
            "Epoch 36/50\n",
            "751/751 [==============================] - 2s 2ms/step - loss: 0.5376 - accuracy: 0.7405\n",
            "Epoch 37/50\n",
            "751/751 [==============================] - 2s 2ms/step - loss: 0.5375 - accuracy: 0.7401\n",
            "Epoch 38/50\n",
            "751/751 [==============================] - 2s 3ms/step - loss: 0.5366 - accuracy: 0.7407\n",
            "Epoch 39/50\n",
            "751/751 [==============================] - 2s 2ms/step - loss: 0.5371 - accuracy: 0.7400\n",
            "Epoch 40/50\n",
            "751/751 [==============================] - 2s 3ms/step - loss: 0.5369 - accuracy: 0.7403\n",
            "Epoch 41/50\n",
            "751/751 [==============================] - 2s 2ms/step - loss: 0.5367 - accuracy: 0.7403\n",
            "Epoch 42/50\n",
            "751/751 [==============================] - 2s 2ms/step - loss: 0.5366 - accuracy: 0.7399\n",
            "Epoch 43/50\n",
            "751/751 [==============================] - 2s 2ms/step - loss: 0.5365 - accuracy: 0.7405\n",
            "Epoch 44/50\n",
            "751/751 [==============================] - 2s 2ms/step - loss: 0.5368 - accuracy: 0.7403\n",
            "Epoch 45/50\n",
            "751/751 [==============================] - 2s 3ms/step - loss: 0.5365 - accuracy: 0.7405\n",
            "Epoch 46/50\n",
            "751/751 [==============================] - 2s 3ms/step - loss: 0.5364 - accuracy: 0.7410\n",
            "Epoch 47/50\n",
            "751/751 [==============================] - 2s 2ms/step - loss: 0.5359 - accuracy: 0.7406\n",
            "Epoch 48/50\n",
            "751/751 [==============================] - 2s 2ms/step - loss: 0.5361 - accuracy: 0.7405\n",
            "Epoch 49/50\n",
            "751/751 [==============================] - 2s 2ms/step - loss: 0.5360 - accuracy: 0.7414\n",
            "Epoch 50/50\n",
            "751/751 [==============================] - 2s 2ms/step - loss: 0.5361 - accuracy: 0.7408\n"
          ]
        }
      ]
    },
    {
      "cell_type": "code",
      "source": [
        "# Evaluate the model using the test data\n",
        "model_loss, model_accuracy = nn.evaluate(X_test_scaled,y_test,verbose=2)\n",
        "print(f\"Loss: {model_loss}, Accuracy: {model_accuracy}\")"
      ],
      "metadata": {
        "colab": {
          "base_uri": "https://localhost:8080/"
        },
        "id": "r7S6td9mEcs6",
        "outputId": "468b3a7d-255b-4b8f-d7a7-89d4ff0aa19a"
      },
      "execution_count": 48,
      "outputs": [
        {
          "output_type": "stream",
          "name": "stdout",
          "text": [
            "322/322 - 1s - loss: 0.5704 - accuracy: 0.7261 - 577ms/epoch - 2ms/step\n",
            "Loss: 0.5703724026679993, Accuracy: 0.7261418700218201\n"
          ]
        }
      ]
    },
    {
      "cell_type": "code",
      "source": [
        "#NNetwork appears to be slightly worse than the first NNetwork\n",
        "test_proba = [x[0] for x in nn.predict(X_test_scaled)]\n",
        "test_preds = [round(x) for x in test_proba]\n",
        "\n",
        "output_test = f\"\"\"\n",
        "  METRICS FOR THE TESTING SET:\n",
        "  ----------------------------\n",
        "  {confusion_matrix(y_test, test_preds)}\n",
        "\n",
        "  {classification_report(y_test, test_preds)}\n",
        "  \"\"\"\n",
        "print(output_test)\n",
        "print()\n",
        "\n",
        "#################################################\n",
        "\n",
        "fpr_knn, tpr_knn, thresholds_knn = roc_curve(y_test, test_proba)\n",
        "\n",
        "roc_auc_knn = auc(fpr_knn, tpr_knn)\n",
        "print(f\"AUC for the Model Test Set: {roc_auc_knn}\")\n",
        "\n",
        "# make plot\n",
        "plt.figure(figsize=(10,6))\n",
        "plt.plot(fpr_knn, tpr_knn, color='darkorange')\n",
        "plt.plot([0, 1], [0, 1], color='navy', linestyle='--')\n",
        "plt.xlim([0.0, 1.0])\n",
        "plt.ylim([0.0, 1.05])\n",
        "plt.xlabel('False Positive Rate')\n",
        "plt.ylabel('True Positive Rate')\n",
        "plt.title('ROC Curve')\n",
        "plt.show()"
      ],
      "metadata": {
        "colab": {
          "base_uri": "https://localhost:8080/",
          "height": 734
        },
        "id": "fG6i3YVJHb5K",
        "outputId": "b0a617b9-fa12-4cf5-d57a-8d8533914b26"
      },
      "execution_count": 49,
      "outputs": [
        {
          "output_type": "stream",
          "name": "stdout",
          "text": [
            "322/322 [==============================] - 1s 3ms/step\n",
            "\n",
            "  METRICS FOR THE TESTING SET:\n",
            "  ----------------------------\n",
            "  [[3124 1688]\n",
            " [1130 4348]]\n",
            "\n",
            "                precision    recall  f1-score   support\n",
            "\n",
            "           0       0.73      0.65      0.69      4812\n",
            "           1       0.72      0.79      0.76      5478\n",
            "\n",
            "    accuracy                           0.73     10290\n",
            "   macro avg       0.73      0.72      0.72     10290\n",
            "weighted avg       0.73      0.73      0.72     10290\n",
            "\n",
            "  \n",
            "\n",
            "AUC for the Model Test Set: 0.7818796344601562\n"
          ]
        },
        {
          "output_type": "display_data",
          "data": {
            "text/plain": [
              "<Figure size 720x432 with 1 Axes>"
            ],
            "image/png": "[encoded data removed]"
          },
          "metadata": {
            "needs_background": "light"
          }
        }
      ]
    },
    {
      "cell_type": "code",
      "source": [
        "# Export our model to HDF5 file\n",
        "nn1.save(\"test_nn1_bh.h5\")"
      ],
      "metadata": {
        "id": "H1FIvnZjHcCa"
      },
      "execution_count": 50,
      "outputs": []
    },
    {
      "cell_type": "code",
      "source": [
        "# Define the 3rd model\n",
        "# Define the model - deep neural net\n",
        "#Four hidden layers\n",
        "#Less parameters than NN1\n",
        "number_input_features = len(X_train[0])\n",
        "hidden_nodes_layer1 =  8\n",
        "hidden_nodes_layer2 = 16\n",
        "hidden_nodes_layer3 = 24\n",
        "hidden_nodes_layer4 = 32\n",
        "\n",
        "nn2 = tf.keras.models.Sequential()\n",
        "\n",
        "# First hidden layer\n",
        "nn2.add(\n",
        "    tf.keras.layers.Dense(units=hidden_nodes_layer1, input_dim=number_input_features, activation=\"relu\")\n",
        ")\n",
        "\n",
        "# Second hidden layer\n",
        "nn2.add(tf.keras.layers.Dense(units=hidden_nodes_layer2, activation=\"relu\"))\n",
        "\n",
        "# Third hidden layer\n",
        "nn2.add(tf.keras.layers.Dense(units=hidden_nodes_layer3, activation=\"relu\"))\n",
        "\n",
        "# fourth hidden layer\n",
        "nn2.add(tf.keras.layers.Dense(units=hidden_nodes_layer4, activation=\"relu\"))\n",
        "\n",
        "# Output layer\n",
        "nn2.add(tf.keras.layers.Dense(units=1, activation=\"sigmoid\"))\n",
        "\n",
        "# Check the structure of the model\n",
        "nn2.summary()"
      ],
      "metadata": {
        "colab": {
          "base_uri": "https://localhost:8080/"
        },
        "id": "7gTWpeM4Kmb5",
        "outputId": "2e4b5c4b-82ef-4f06-9da9-5a43776bd617"
      },
      "execution_count": 54,
      "outputs": [
        {
          "output_type": "stream",
          "name": "stdout",
          "text": [
            "Model: \"sequential_5\"\n",
            "_________________________________________________________________\n",
            " Layer (type)                Output Shape              Param #   \n",
            "=================================================================\n",
            " dense_21 (Dense)            (None, 8)                 352       \n",
            "                                                                 \n",
            " dense_22 (Dense)            (None, 16)                144       \n",
            "                                                                 \n",
            " dense_23 (Dense)            (None, 24)                408       \n",
            "                                                                 \n",
            " dense_24 (Dense)            (None, 32)                800       \n",
            "                                                                 \n",
            " dense_25 (Dense)            (None, 1)                 33        \n",
            "                                                                 \n",
            "=================================================================\n",
            "Total params: 1,737\n",
            "Trainable params: 1,737\n",
            "Non-trainable params: 0\n",
            "_________________________________________________________________\n"
          ]
        }
      ]
    },
    {
      "cell_type": "code",
      "source": [
        "# Compile the model\n",
        "nn2.compile(loss=\"binary_crossentropy\", optimizer=\"adam\", metrics=[\"accuracy\"])"
      ],
      "metadata": {
        "id": "ftWbsVAKKomQ"
      },
      "execution_count": 55,
      "outputs": []
    },
    {
      "cell_type": "code",
      "source": [
        "# Train the model\n",
        "fit_model = nn1.fit(X_train_scaled,y_train,epochs=80)"
      ],
      "metadata": {
        "colab": {
          "base_uri": "https://localhost:8080/"
        },
        "id": "zRLuUJHGKodU",
        "outputId": "a059d951-646e-447f-c5d3-331652d42796"
      },
      "execution_count": 56,
      "outputs": [
        {
          "output_type": "stream",
          "name": "stdout",
          "text": [
            "Epoch 1/80\n",
            "751/751 [==============================] - 2s 2ms/step - loss: 0.5354 - accuracy: 0.7412\n",
            "Epoch 2/80\n",
            "751/751 [==============================] - 2s 3ms/step - loss: 0.5365 - accuracy: 0.7396\n",
            "Epoch 3/80\n",
            "751/751 [==============================] - 2s 3ms/step - loss: 0.5354 - accuracy: 0.7401\n",
            "Epoch 4/80\n",
            "751/751 [==============================] - 2s 2ms/step - loss: 0.5352 - accuracy: 0.7408\n",
            "Epoch 5/80\n",
            "751/751 [==============================] - 2s 2ms/step - loss: 0.5355 - accuracy: 0.7409\n",
            "Epoch 6/80\n",
            "751/751 [==============================] - 2s 2ms/step - loss: 0.5356 - accuracy: 0.7406\n",
            "Epoch 7/80\n",
            "751/751 [==============================] - 2s 2ms/step - loss: 0.5351 - accuracy: 0.7413\n",
            "Epoch 8/80\n",
            "751/751 [==============================] - 2s 2ms/step - loss: 0.5356 - accuracy: 0.7414\n",
            "Epoch 9/80\n",
            "751/751 [==============================] - 2s 3ms/step - loss: 0.5351 - accuracy: 0.7413\n",
            "Epoch 10/80\n",
            "751/751 [==============================] - 2s 3ms/step - loss: 0.5362 - accuracy: 0.7409\n",
            "Epoch 11/80\n",
            "751/751 [==============================] - 2s 2ms/step - loss: 0.5352 - accuracy: 0.7415\n",
            "Epoch 12/80\n",
            "751/751 [==============================] - 2s 2ms/step - loss: 0.5349 - accuracy: 0.7422\n",
            "Epoch 13/80\n",
            "751/751 [==============================] - 2s 2ms/step - loss: 0.5354 - accuracy: 0.7415\n",
            "Epoch 14/80\n",
            "751/751 [==============================] - 2s 2ms/step - loss: 0.5346 - accuracy: 0.7410\n",
            "Epoch 15/80\n",
            "751/751 [==============================] - 2s 2ms/step - loss: 0.5346 - accuracy: 0.7417\n",
            "Epoch 16/80\n",
            "751/751 [==============================] - 2s 3ms/step - loss: 0.5346 - accuracy: 0.7417\n",
            "Epoch 17/80\n",
            "751/751 [==============================] - 2s 3ms/step - loss: 0.5352 - accuracy: 0.7411\n",
            "Epoch 18/80\n",
            "751/751 [==============================] - 2s 2ms/step - loss: 0.5345 - accuracy: 0.7418\n",
            "Epoch 19/80\n",
            "751/751 [==============================] - 2s 2ms/step - loss: 0.5347 - accuracy: 0.7416\n",
            "Epoch 20/80\n",
            "751/751 [==============================] - 4s 5ms/step - loss: 0.5339 - accuracy: 0.7415\n",
            "Epoch 21/80\n",
            "751/751 [==============================] - 2s 2ms/step - loss: 0.5343 - accuracy: 0.7416\n",
            "Epoch 22/80\n",
            "751/751 [==============================] - 3s 3ms/step - loss: 0.5348 - accuracy: 0.7418\n",
            "Epoch 23/80\n",
            "751/751 [==============================] - 2s 3ms/step - loss: 0.5343 - accuracy: 0.7413\n",
            "Epoch 24/80\n",
            "751/751 [==============================] - 2s 2ms/step - loss: 0.5343 - accuracy: 0.7422\n",
            "Epoch 25/80\n",
            "751/751 [==============================] - 2s 2ms/step - loss: 0.5340 - accuracy: 0.7413\n",
            "Epoch 26/80\n",
            "751/751 [==============================] - 2s 2ms/step - loss: 0.5342 - accuracy: 0.7420\n",
            "Epoch 27/80\n",
            "751/751 [==============================] - 2s 2ms/step - loss: 0.5340 - accuracy: 0.7416\n",
            "Epoch 28/80\n",
            "751/751 [==============================] - 2s 2ms/step - loss: 0.5347 - accuracy: 0.7413\n",
            "Epoch 29/80\n",
            "751/751 [==============================] - 3s 3ms/step - loss: 0.5337 - accuracy: 0.7417\n",
            "Epoch 30/80\n",
            "751/751 [==============================] - 2s 2ms/step - loss: 0.5341 - accuracy: 0.7411\n",
            "Epoch 31/80\n",
            "751/751 [==============================] - 2s 2ms/step - loss: 0.5338 - accuracy: 0.7420\n",
            "Epoch 32/80\n",
            "751/751 [==============================] - 2s 2ms/step - loss: 0.5339 - accuracy: 0.7415\n",
            "Epoch 33/80\n",
            "751/751 [==============================] - 2s 2ms/step - loss: 0.5334 - accuracy: 0.7418\n",
            "Epoch 34/80\n",
            "751/751 [==============================] - 2s 2ms/step - loss: 0.5338 - accuracy: 0.7420\n",
            "Epoch 35/80\n",
            "751/751 [==============================] - 2s 2ms/step - loss: 0.5333 - accuracy: 0.7420\n",
            "Epoch 36/80\n",
            "751/751 [==============================] - 3s 4ms/step - loss: 0.5335 - accuracy: 0.7419\n",
            "Epoch 37/80\n",
            "751/751 [==============================] - 2s 3ms/step - loss: 0.5332 - accuracy: 0.7419\n",
            "Epoch 38/80\n",
            "751/751 [==============================] - 5s 7ms/step - loss: 0.5347 - accuracy: 0.7418\n",
            "Epoch 39/80\n",
            "751/751 [==============================] - 2s 2ms/step - loss: 0.5339 - accuracy: 0.7420\n",
            "Epoch 40/80\n",
            "751/751 [==============================] - 2s 2ms/step - loss: 0.5334 - accuracy: 0.7421\n",
            "Epoch 41/80\n",
            "751/751 [==============================] - 3s 3ms/step - loss: 0.5336 - accuracy: 0.7420\n",
            "Epoch 42/80\n",
            "751/751 [==============================] - 2s 2ms/step - loss: 0.5335 - accuracy: 0.7418\n",
            "Epoch 43/80\n",
            "751/751 [==============================] - 2s 2ms/step - loss: 0.5330 - accuracy: 0.7422\n",
            "Epoch 44/80\n",
            "751/751 [==============================] - 2s 2ms/step - loss: 0.5334 - accuracy: 0.7419\n",
            "Epoch 45/80\n",
            "751/751 [==============================] - 2s 2ms/step - loss: 0.5333 - accuracy: 0.7416\n",
            "Epoch 46/80\n",
            "751/751 [==============================] - 2s 2ms/step - loss: 0.5332 - accuracy: 0.7417\n",
            "Epoch 47/80\n",
            "751/751 [==============================] - 2s 2ms/step - loss: 0.5328 - accuracy: 0.7422\n",
            "Epoch 48/80\n",
            "751/751 [==============================] - 3s 4ms/step - loss: 0.5329 - accuracy: 0.7419\n",
            "Epoch 49/80\n",
            "751/751 [==============================] - 2s 2ms/step - loss: 0.5334 - accuracy: 0.7418\n",
            "Epoch 50/80\n",
            "751/751 [==============================] - 2s 2ms/step - loss: 0.5329 - accuracy: 0.7421\n",
            "Epoch 51/80\n",
            "751/751 [==============================] - 2s 2ms/step - loss: 0.5332 - accuracy: 0.7417\n",
            "Epoch 52/80\n",
            "751/751 [==============================] - 2s 2ms/step - loss: 0.5326 - accuracy: 0.7421\n",
            "Epoch 53/80\n",
            "751/751 [==============================] - 2s 2ms/step - loss: 0.5331 - accuracy: 0.7421\n",
            "Epoch 54/80\n",
            "751/751 [==============================] - 2s 3ms/step - loss: 0.5326 - accuracy: 0.7419\n",
            "Epoch 55/80\n",
            "751/751 [==============================] - 3s 4ms/step - loss: 0.5325 - accuracy: 0.7418\n",
            "Epoch 56/80\n",
            "751/751 [==============================] - 2s 2ms/step - loss: 0.5322 - accuracy: 0.7428\n",
            "Epoch 57/80\n",
            "751/751 [==============================] - 2s 2ms/step - loss: 0.5327 - accuracy: 0.7421\n",
            "Epoch 58/80\n",
            "751/751 [==============================] - 2s 2ms/step - loss: 0.5328 - accuracy: 0.7413\n",
            "Epoch 59/80\n",
            "751/751 [==============================] - 2s 2ms/step - loss: 0.5326 - accuracy: 0.7424\n",
            "Epoch 60/80\n",
            "751/751 [==============================] - 2s 2ms/step - loss: 0.5326 - accuracy: 0.7417\n",
            "Epoch 61/80\n",
            "751/751 [==============================] - 2s 3ms/step - loss: 0.5326 - accuracy: 0.7422\n",
            "Epoch 62/80\n",
            "751/751 [==============================] - 3s 3ms/step - loss: 0.5324 - accuracy: 0.7425\n",
            "Epoch 63/80\n",
            "751/751 [==============================] - 2s 2ms/step - loss: 0.5329 - accuracy: 0.7418\n",
            "Epoch 64/80\n",
            "751/751 [==============================] - 2s 2ms/step - loss: 0.5321 - accuracy: 0.7421\n",
            "Epoch 65/80\n",
            "751/751 [==============================] - 2s 2ms/step - loss: 0.5321 - accuracy: 0.7422\n",
            "Epoch 66/80\n",
            "751/751 [==============================] - 2s 2ms/step - loss: 0.5322 - accuracy: 0.7417\n",
            "Epoch 67/80\n",
            "751/751 [==============================] - 2s 2ms/step - loss: 0.5322 - accuracy: 0.7425\n",
            "Epoch 68/80\n",
            "751/751 [==============================] - 2s 3ms/step - loss: 0.5322 - accuracy: 0.7421\n",
            "Epoch 69/80\n",
            "751/751 [==============================] - 2s 3ms/step - loss: 0.5319 - accuracy: 0.7423\n",
            "Epoch 70/80\n",
            "751/751 [==============================] - 2s 2ms/step - loss: 0.5325 - accuracy: 0.7423\n",
            "Epoch 71/80\n",
            "751/751 [==============================] - 2s 2ms/step - loss: 0.5323 - accuracy: 0.7422\n",
            "Epoch 72/80\n",
            "751/751 [==============================] - 2s 2ms/step - loss: 0.5318 - accuracy: 0.7425\n",
            "Epoch 73/80\n",
            "751/751 [==============================] - 2s 2ms/step - loss: 0.5323 - accuracy: 0.7424\n",
            "Epoch 74/80\n",
            "751/751 [==============================] - 2s 2ms/step - loss: 0.5317 - accuracy: 0.7422\n",
            "Epoch 75/80\n",
            "751/751 [==============================] - 2s 3ms/step - loss: 0.5316 - accuracy: 0.7418\n",
            "Epoch 76/80\n",
            "751/751 [==============================] - 2s 3ms/step - loss: 0.5316 - accuracy: 0.7426\n",
            "Epoch 77/80\n",
            "751/751 [==============================] - 2s 2ms/step - loss: 0.5320 - accuracy: 0.7421\n",
            "Epoch 78/80\n",
            "751/751 [==============================] - 2s 2ms/step - loss: 0.5313 - accuracy: 0.7417\n",
            "Epoch 79/80\n",
            "751/751 [==============================] - 2s 2ms/step - loss: 0.5324 - accuracy: 0.7418\n",
            "Epoch 80/80\n",
            "751/751 [==============================] - 2s 2ms/step - loss: 0.5318 - accuracy: 0.7422\n"
          ]
        }
      ]
    },
    {
      "cell_type": "code",
      "source": [
        "# Evaluate the model using the test data\n",
        "model_loss, model_accuracy = nn.evaluate(X_test_scaled,y_test,verbose=2)\n",
        "print(f\"Loss: {model_loss}, Accuracy: {model_accuracy}\")"
      ],
      "metadata": {
        "colab": {
          "base_uri": "https://localhost:8080/"
        },
        "id": "Ofqhnpo7KoT5",
        "outputId": "b8a34473-42e4-49db-f5c0-1df6a46d8bac"
      },
      "execution_count": 57,
      "outputs": [
        {
          "output_type": "stream",
          "name": "stdout",
          "text": [
            "322/322 - 0s - loss: 0.5704 - accuracy: 0.7261 - 476ms/epoch - 1ms/step\n",
            "Loss: 0.5703724026679993, Accuracy: 0.7261418700218201\n"
          ]
        }
      ]
    },
    {
      "cell_type": "code",
      "source": [
        "#NNetwork appears to be the same as the first NNetwork\n",
        "test_proba = [x[0] for x in nn.predict(X_test_scaled)]\n",
        "test_preds = [round(x) for x in test_proba]\n",
        "\n",
        "output_test = f\"\"\"\n",
        "  METRICS FOR THE TESTING SET:\n",
        "  ----------------------------\n",
        "  {confusion_matrix(y_test, test_preds)}\n",
        "\n",
        "  {classification_report(y_test, test_preds)}\n",
        "  \"\"\"\n",
        "print(output_test)\n",
        "print()\n",
        "\n",
        "#################################################\n",
        "\n",
        "fpr_knn, tpr_knn, thresholds_knn = roc_curve(y_test, test_proba)\n",
        "\n",
        "roc_auc_knn = auc(fpr_knn, tpr_knn)\n",
        "print(f\"AUC for the Model Test Set: {roc_auc_knn}\")\n",
        "\n",
        "# make plot\n",
        "plt.figure(figsize=(10,6))\n",
        "plt.plot(fpr_knn, tpr_knn, color='darkorange')\n",
        "plt.plot([0, 1], [0, 1], color='navy', linestyle='--')\n",
        "plt.xlim([0.0, 1.0])\n",
        "plt.ylim([0.0, 1.05])\n",
        "plt.xlabel('False Positive Rate')\n",
        "plt.ylabel('True Positive Rate')\n",
        "plt.title('ROC Curve')\n",
        "plt.show()"
      ],
      "metadata": {
        "colab": {
          "base_uri": "https://localhost:8080/",
          "height": 734
        },
        "id": "ph2X74wbL9Sh",
        "outputId": "9382be2d-8686-4ac2-fd94-c2d6585af66f"
      },
      "execution_count": 58,
      "outputs": [
        {
          "output_type": "stream",
          "name": "stdout",
          "text": [
            "322/322 [==============================] - 1s 2ms/step\n",
            "\n",
            "  METRICS FOR THE TESTING SET:\n",
            "  ----------------------------\n",
            "  [[3124 1688]\n",
            " [1130 4348]]\n",
            "\n",
            "                precision    recall  f1-score   support\n",
            "\n",
            "           0       0.73      0.65      0.69      4812\n",
            "           1       0.72      0.79      0.76      5478\n",
            "\n",
            "    accuracy                           0.73     10290\n",
            "   macro avg       0.73      0.72      0.72     10290\n",
            "weighted avg       0.73      0.73      0.72     10290\n",
            "\n",
            "  \n",
            "\n",
            "AUC for the Model Test Set: 0.7818796344601562\n"
          ]
        },
        {
          "output_type": "display_data",
          "data": {
            "text/plain": [
              "<Figure size 720x432 with 1 Axes>"
            ],
            "image/png": "[encoded data removed]"
          },
          "metadata": {
            "needs_background": "light"
          }
        }
      ]
    },
    {
      "cell_type": "code",
      "source": [
        "# Export our model to HDF5 file\n",
        "nn2.save(\"test_nn2_bh.h5\")"
      ],
      "metadata": {
        "id": "SKA-t9bwL9H9"
      },
      "execution_count": 59,
      "outputs": []
    },
    {
      "cell_type": "code",
      "source": [],
      "metadata": {
        "id": "rak5H0WfKmkx"
      },
      "execution_count": null,
      "outputs": []
    }
  ],
  "metadata": {
    "kernelspec": {
      "display_name": "Python 3",
      "language": "python",
      "name": "python3"
    },
    "language_info": {
      "codemirror_mode": {
        "name": "ipython",
        "version": 3
      },
      "file_extension": ".py",
      "mimetype": "text/x-python",
      "name": "python",
      "nbconvert_exporter": "python",
      "pygments_lexer": "ipython3",
      "version": "3.7.6"
    },
    "colab": {
      "provenance": [],
      "include_colab_link": true
    }
  },
  "nbformat": 4,
  "nbformat_minor": 0
}